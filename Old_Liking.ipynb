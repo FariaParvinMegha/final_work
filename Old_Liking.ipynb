{
  "nbformat": 4,
  "nbformat_minor": 0,
  "metadata": {
    "colab": {
      "provenance": [],
      "gpuType": "T4",
      "include_colab_link": true
    },
    "kernelspec": {
      "name": "python3",
      "display_name": "Python 3"
    },
    "language_info": {
      "name": "python"
    },
    "accelerator": "GPU"
  },
  "cells": [
    {
      "cell_type": "markdown",
      "metadata": {
        "id": "view-in-github",
        "colab_type": "text"
      },
      "source": [
        "<a href=\"https://colab.research.google.com/github/FariaParvinMegha/final_work/blob/main/Old_Liking.ipynb\" target=\"_parent\"><img src=\"https://colab.research.google.com/assets/colab-badge.svg\" alt=\"Open In Colab\"/></a>"
      ]
    },
    {
      "cell_type": "code",
      "execution_count": null,
      "metadata": {
        "colab": {
          "base_uri": "https://localhost:8080/"
        },
        "id": "CiLQSHLpBgNN",
        "outputId": "995bb24f-fd6d-4de4-8ea0-7f9baebf513f"
      },
      "outputs": [
        {
          "output_type": "stream",
          "name": "stdout",
          "text": [
            "Mounted at /content/drive\n"
          ]
        }
      ],
      "source": [
        "from google.colab import drive\n",
        "drive.mount('/content/drive')"
      ]
    },
    {
      "cell_type": "code",
      "source": [
        "!pip install git+https://github.com/forrestbao/pyeeg.git\n",
        "\n",
        "!pip install keras-self-attention"
      ],
      "metadata": {
        "colab": {
          "base_uri": "https://localhost:8080/"
        },
        "id": "0KtyC8AjCBs7",
        "outputId": "a22069c2-26a6-4aa9-f62e-981a30990d1d"
      },
      "execution_count": null,
      "outputs": [
        {
          "output_type": "stream",
          "name": "stdout",
          "text": [
            "Collecting git+https://github.com/forrestbao/pyeeg.git\n",
            "  Cloning https://github.com/forrestbao/pyeeg.git to /tmp/pip-req-build-vlzxagum\n",
            "  Running command git clone --filter=blob:none --quiet https://github.com/forrestbao/pyeeg.git /tmp/pip-req-build-vlzxagum\n",
            "  Resolved https://github.com/forrestbao/pyeeg.git to commit a6c18bb093e4748f9d9c208535a6ae024a0802b8\n",
            "  Preparing metadata (setup.py) ... \u001b[?25l\u001b[?25hdone\n",
            "Requirement already satisfied: numpy>=1.9.2 in /usr/local/lib/python3.10/dist-packages (from pyeeg==0.4.4) (1.25.2)\n",
            "Building wheels for collected packages: pyeeg\n",
            "  Building wheel for pyeeg (setup.py) ... \u001b[?25l\u001b[?25hdone\n",
            "  Created wheel for pyeeg: filename=pyeeg-0.4.4-py2.py3-none-any.whl size=28111 sha256=02330890c3d3a9e53823b335e3d5344a8e61d1e98e5f6dc22c60fb3f3fb7024c\n",
            "  Stored in directory: /tmp/pip-ephem-wheel-cache-6k1qgmp8/wheels/a8/c4/1a/cee09dcc12a11620066d35ace42e3c1e3bfbcc1db3a0ce7788\n",
            "Successfully built pyeeg\n",
            "Installing collected packages: pyeeg\n",
            "Successfully installed pyeeg-0.4.4\n",
            "Collecting keras-self-attention\n",
            "  Downloading keras-self-attention-0.51.0.tar.gz (11 kB)\n",
            "  Preparing metadata (setup.py) ... \u001b[?25l\u001b[?25hdone\n",
            "Requirement already satisfied: numpy in /usr/local/lib/python3.10/dist-packages (from keras-self-attention) (1.25.2)\n",
            "Building wheels for collected packages: keras-self-attention\n",
            "  Building wheel for keras-self-attention (setup.py) ... \u001b[?25l\u001b[?25hdone\n",
            "  Created wheel for keras-self-attention: filename=keras_self_attention-0.51.0-py3-none-any.whl size=18895 sha256=c14f0cfa0dedb558b1486cfd07ad2618c74b97f5bfcbaeae76097b66148acb3c\n",
            "  Stored in directory: /root/.cache/pip/wheels/b8/f7/24/607b483144fb9c47b4ba2c5fba6b68e54aeee2d5bf6c05302e\n",
            "Successfully built keras-self-attention\n",
            "Installing collected packages: keras-self-attention\n",
            "Successfully installed keras-self-attention-0.51.0\n"
          ]
        }
      ]
    },
    {
      "cell_type": "code",
      "source": [
        "import numpy as np\n",
        "import pyeeg as pe\n",
        "import pickle as pickle\n",
        "import pandas as pd\n",
        "import math\n",
        "import matplotlib.pyplot as plt\n",
        "from sklearn.preprocessing import normalize\n",
        "from sklearn import svm\n",
        "import tensorflow as tf\n",
        "import os\n",
        "import time\n",
        "import keras\n",
        "import keras.backend as K\n",
        "\n",
        "import tensorflow as tf\n",
        "from tensorflow import keras\n",
        "from keras.metrics import Precision, Recall\n",
        "from keras.models import Sequential\n",
        "from keras.utils import to_categorical\n",
        "from keras.layers import Dense, Dropout, Flatten, MaxPooling2D, Conv1D\n",
        "from keras.models import Model\n",
        "from keras.utils import plot_model\n",
        "\n",
        "import timeit\n",
        "from keras.layers import MaxPooling1D, ZeroPadding1D\n",
        "from keras.optimizers import SGD\n",
        "import matplotlib.pyplot as plt\n",
        "import warnings\n",
        "warnings.filterwarnings('ignore')\n",
        "\n",
        "from keras.layers import Convolution1D, ZeroPadding1D, MaxPooling1D, BatchNormalization, Activation, Dropout, Flatten, Dense\n",
        "from keras.regularizers import l2\n",
        "from keras.callbacks import ModelCheckpoint, EarlyStopping, ReduceLROnPlateau\n",
        "from keras.layers import Input, Conv2D, MaxPooling2D, Reshape, Bidirectional, LSTM, Dense, Lambda, Activation, BatchNormalization, Dropout\n",
        "from keras_self_attention import SeqSelfAttention\n",
        "from keras.layers import (Input, Embedding, Conv1D, Activation, GlobalMaxPooling1D, BatchNormalization,\n",
        "                          Concatenate, LSTM, Flatten, Dropout, Dense)"
      ],
      "metadata": {
        "id": "sZnepYvXCD3j"
      },
      "execution_count": null,
      "outputs": []
    },
    {
      "cell_type": "code",
      "source": [
        "channel = [1,2,4,5,8,10,15,21,22,25,26,27,28,31,32]\n",
        "band = [4,8,13,22,30,45] #5 bands\n",
        "window_size = 256 #Averaging band power of 2 sec\n",
        "step_size = 16 #Each 0.125 sec update once\n",
        "sample_rate = 128 #Sampling rate of 128 Hz\n",
        "subjectList = ['01','02','03','04','05','06','07','08','09','10','11','12','13','14','15','16','17','18','19','20','21','22','23','24','25','26','27','28','29','30','31','32']\n"
      ],
      "metadata": {
        "id": "VoN32YnwCHZc"
      },
      "execution_count": null,
      "outputs": []
    },
    {
      "cell_type": "code",
      "source": [
        "def FFT_Processing (sub, channel, band, window_size, step_size, sample_rate):\n",
        "   meta = []\n",
        "   with open('/content/drive/MyDrive/data_preprocessed_python/s' + sub + '.dat', 'rb') as file:\n",
        "\n",
        "        subject = pickle.load(file, encoding='latin1') #resolve the python 2 data problem by encoding : latin1\n",
        "\n",
        "        for i in range (0,40):\n",
        "            # loop over 0-39 trails\n",
        "            data = subject[\"data\"][i]\n",
        "            labels = subject[\"labels\"][i]\n",
        "            start = 0;\n",
        "            #data.shape\n",
        "\n",
        "            while start + window_size < data.shape[1]:\n",
        "                meta_array = []\n",
        "                meta_data = [] #meta vector for analysis\n",
        "                for j in channel:\n",
        "                    X = data[j][start : start + window_size] #Slice raw data over 2 sec, at interval of 0.125 sec\n",
        "                    Y = pe.bin_power(X, band, sample_rate) #FFT over 2 sec of channel j, in seq of theta, alpha, low beta, high beta, gamma\n",
        "                    meta_data = meta_data + list(Y[0])\n",
        "\n",
        "                meta_array.append(np.array(meta_data))\n",
        "                meta_array.append(labels)\n",
        "\n",
        "                meta.append(np.array(meta_array))\n",
        "                start = start + step_size\n",
        "\n",
        "        meta = np.array(meta)\n",
        "        np.save('/content/drive/MyDrive/processed_data/s' + sub, meta, allow_pickle=True, fix_imports=True)"
      ],
      "metadata": {
        "id": "PmiTFb07CLLr"
      },
      "execution_count": null,
      "outputs": []
    },
    {
      "cell_type": "code",
      "source": [
        "for subjects in subjectList:\n",
        "    FFT_Processing (subjects, channel, band, window_size, step_size, sample_rate)"
      ],
      "metadata": {
        "colab": {
          "base_uri": "https://localhost:8080/"
        },
        "id": "hESC-nE9CPLz",
        "outputId": "d35c25ec-d388-4d29-bcde-f5eda050b7c7"
      },
      "execution_count": null,
      "outputs": [
        {
          "metadata": {
            "tags": null
          },
          "name": "stderr",
          "output_type": "stream",
          "text": [
            "<ipython-input-5-f187518c58b2>:25: VisibleDeprecationWarning: Creating an ndarray from ragged nested sequences (which is a list-or-tuple of lists-or-tuples-or ndarrays with different lengths or shapes) is deprecated. If you meant to do this, you must specify 'dtype=object' when creating the ndarray.\n",
            "  meta.append(np.array(meta_array))\n"
          ]
        }
      ]
    },
    {
      "cell_type": "code",
      "source": [
        "np_load_old = np.load\n",
        "np.load = lambda *a,**k: np_load_old(*a, allow_pickle=True, **k)"
      ],
      "metadata": {
        "id": "pguW7FWOGLsW"
      },
      "execution_count": null,
      "outputs": []
    },
    {
      "cell_type": "code",
      "source": [
        "# from sklearn.utils import shuffle\n",
        "data_training = []\n",
        "label_training = []\n",
        "data_testing = []\n",
        "label_testing = []\n",
        "\n",
        "for subjects in subjectList:\n",
        "  with open('/content/drive/MyDrive/processed_data/s' + subjects + '.npy', 'rb') as file:\n",
        "\n",
        "      sub = np.load(file)\n",
        "      for i in range (0,sub.shape[0]):\n",
        "        if i % 8 == 0:\n",
        "          data_testing.append(sub[i][0])\n",
        "          label_testing.append(sub[i][1])\n",
        "        else:\n",
        "          data_training.append(sub[i][0])\n",
        "          label_training.append(sub[i][1])\n",
        "\n",
        "\n",
        "\n",
        "\n",
        "np.save('/content/drive/MyDrive/data_training/data_training', np.array(data_training), allow_pickle=True, fix_imports=True)\n",
        "np.save('/content/drive/MyDrive/label_training/label_training', np.array(label_training), allow_pickle=True, fix_imports=True)\n",
        "print(\"training dataset:\", np.array(data_training).shape, np.array(label_training).shape)\n",
        "\n",
        "np.save('/content/drive/MyDrive/data_testing/data_testing', np.array(data_testing), allow_pickle=True, fix_imports=True)\n",
        "np.save('/content/drive/MyDrive/label_testing/label_testing', np.array(label_testing), allow_pickle=True, fix_imports=True)\n",
        "print(\"testing dataset:\", np.array(data_testing).shape, np.array(label_testing).shape)"
      ],
      "metadata": {
        "colab": {
          "base_uri": "https://localhost:8080/"
        },
        "id": "LY9VHA6bGOtf",
        "outputId": "60fd85be-dae3-42c3-c3b7-5df7995a9326"
      },
      "execution_count": null,
      "outputs": [
        {
          "output_type": "stream",
          "name": "stdout",
          "text": [
            "training dataset: (546560, 75) (546560, 4)\n",
            "testing dataset: (78080, 75) (78080, 4)\n"
          ]
        }
      ]
    },
    {
      "cell_type": "code",
      "source": [
        "np.load = np_load_old"
      ],
      "metadata": {
        "id": "AylMyCRhJXMr"
      },
      "execution_count": null,
      "outputs": []
    },
    {
      "cell_type": "code",
      "source": [
        "import keras\n",
        "import keras.backend as K\n",
        "from keras.layers import Conv1D, MaxPooling1D, ZeroPadding1D\n",
        "from keras.models import Sequential, Model\n",
        "from keras.layers import Dense, Dropout, Flatten\n",
        "from keras.utils import to_categorical\n",
        "from keras.optimizers import SGD\n",
        "import timeit\n",
        "import matplotlib.pyplot as plt\n",
        "import warnings\n",
        "warnings.filterwarnings('ignore')"
      ],
      "metadata": {
        "id": "EKpt4UM1JZVr"
      },
      "execution_count": null,
      "outputs": []
    },
    {
      "cell_type": "markdown",
      "source": [
        "FOR LIKING"
      ],
      "metadata": {
        "id": "ejdF94ApcqKy"
      }
    },
    {
      "cell_type": "code",
      "source": [
        "with open('/content/drive/MyDrive/data_training/data_training.npy', 'rb') as fileTrain:\n",
        "    X  = np.load(fileTrain)\n",
        "\n",
        "with open('/content/drive/MyDrive/label_training/label_training.npy', 'rb') as fileTrainL:\n",
        "    Y  = np.load(fileTrainL)\n",
        "\n",
        "\n",
        "X = normalize(X)\n",
        "Z = np.ravel(Y[:, [3]])\n",
        "\n",
        "Arousal_Train = np.ravel(Y[:, [0]])\n",
        "Valence_Train = np.ravel(Y[:, [1]])\n",
        "Dominance_Train = np.ravel(Y[:, [2]])\n",
        "Like_Train = np.ravel(Y[:, [3]])\n",
        "\n",
        "for i in range(len(Z)):\n",
        "  if Z[i] == 9:\n",
        "    Z[i] = 8.99"
      ],
      "metadata": {
        "id": "P69CnsaoJxq6"
      },
      "execution_count": null,
      "outputs": []
    },
    {
      "cell_type": "code",
      "source": [
        "A=np.copy(Z)\n",
        "\n",
        "np.unique(Z)"
      ],
      "metadata": {
        "colab": {
          "base_uri": "https://localhost:8080/"
        },
        "id": "rECPqvh7srBY",
        "outputId": "d37b0cb5-7267-47fb-9fc8-f60e8b3f4eb1"
      },
      "execution_count": null,
      "outputs": [
        {
          "output_type": "execute_result",
          "data": {
            "text/plain": [
              "array([1.  , 1.01, 1.03, 1.04, 1.05, 1.06, 1.09, 1.1 , 1.12, 1.15, 1.18,\n",
              "       1.22, 1.24, 1.26, 1.33, 1.37, 1.42, 1.44, 1.5 , 1.55, 1.73, 1.77,\n",
              "       1.79, 1.82, 1.83, 1.85, 1.86, 1.87, 1.88, 1.9 , 1.91, 1.92, 1.94,\n",
              "       1.95, 1.96, 1.97, 1.99, 2.  , 2.01, 2.03, 2.04, 2.05, 2.06, 2.08,\n",
              "       2.09, 2.1 , 2.12, 2.13, 2.15, 2.18, 2.23, 2.24, 2.26, 2.28, 2.33,\n",
              "       2.35, 2.36, 2.4 , 2.47, 2.53, 2.54, 2.58, 2.62, 2.73, 2.74, 2.76,\n",
              "       2.78, 2.79, 2.81, 2.82, 2.86, 2.87, 2.88, 2.9 , 2.91, 2.92, 2.94,\n",
              "       2.95, 2.96, 2.97, 2.99, 3.  , 3.01, 3.03, 3.04, 3.05, 3.06, 3.08,\n",
              "       3.12, 3.13, 3.15, 3.17, 3.18, 3.22, 3.23, 3.27, 3.29, 3.35, 3.37,\n",
              "       3.4 , 3.47, 3.49, 3.51, 3.54, 3.55, 3.58, 3.67, 3.69, 3.71, 3.73,\n",
              "       3.74, 3.77, 3.78, 3.81, 3.83, 3.86, 3.87, 3.88, 3.9 , 3.92, 3.94,\n",
              "       3.95, 3.96, 3.97, 3.99, 4.  , 4.01, 4.03, 4.04, 4.05, 4.06, 4.08,\n",
              "       4.09, 4.1 , 4.12, 4.13, 4.14, 4.19, 4.21, 4.22, 4.29, 4.31, 4.36,\n",
              "       4.42, 4.45, 4.46, 4.51, 4.55, 4.59, 4.62, 4.65, 4.71, 4.77, 4.81,\n",
              "       4.87, 4.88, 4.92, 4.94, 4.95, 4.96, 4.97, 4.99, 5.  , 5.01, 5.03,\n",
              "       5.04, 5.05, 5.06, 5.08, 5.09, 5.1 , 5.12, 5.13, 5.14, 5.17, 5.18,\n",
              "       5.19, 5.23, 5.26, 5.29, 5.31, 5.33, 5.36, 5.38, 5.41, 5.44, 5.47,\n",
              "       5.49, 5.5 , 5.51, 5.53, 5.54, 5.55, 5.63, 5.65, 5.67, 5.69, 5.71,\n",
              "       5.72, 5.74, 5.77, 5.79, 5.81, 5.82, 5.83, 5.85, 5.87, 5.88, 5.9 ,\n",
              "       5.91, 5.92, 5.94, 5.95, 5.96, 5.97, 5.99, 6.  , 6.01, 6.03, 6.04,\n",
              "       6.05, 6.06, 6.08, 6.09, 6.1 , 6.12, 6.13, 6.14, 6.15, 6.17, 6.18,\n",
              "       6.19, 6.21, 6.22, 6.23, 6.24, 6.26, 6.27, 6.28, 6.29, 6.31, 6.32,\n",
              "       6.35, 6.36, 6.37, 6.4 , 6.41, 6.42, 6.44, 6.47, 6.49, 6.5 , 6.53,\n",
              "       6.54, 6.55, 6.56, 6.58, 6.59, 6.6 , 6.62, 6.63, 6.64, 6.65, 6.67,\n",
              "       6.68, 6.69, 6.74, 6.77, 6.78, 6.79, 6.81, 6.82, 6.83, 6.85, 6.86,\n",
              "       6.87, 6.88, 6.91, 6.92, 6.94, 6.95, 6.96, 6.97, 6.99, 7.  , 7.01,\n",
              "       7.03, 7.04, 7.05, 7.06, 7.08, 7.09, 7.1 , 7.12, 7.13, 7.14, 7.15,\n",
              "       7.17, 7.18, 7.19, 7.21, 7.22, 7.23, 7.27, 7.29, 7.31, 7.32, 7.33,\n",
              "       7.35, 7.36, 7.37, 7.38, 7.4 , 7.41, 7.42, 7.44, 7.46, 7.47, 7.51,\n",
              "       7.53, 7.54, 7.56, 7.58, 7.59, 7.62, 7.63, 7.67, 7.68, 7.69, 7.71,\n",
              "       7.72, 7.73, 7.74, 7.78, 7.79, 7.81, 7.82, 7.83, 7.85, 7.86, 7.87,\n",
              "       7.9 , 7.91, 7.92, 7.94, 7.95, 7.96, 7.97, 7.99, 8.  , 8.01, 8.03,\n",
              "       8.04, 8.05, 8.06, 8.08, 8.09, 8.1 , 8.12, 8.13, 8.14, 8.15, 8.18,\n",
              "       8.19, 8.22, 8.24, 8.28, 8.32, 8.42, 8.47, 8.51, 8.53, 8.68, 8.77,\n",
              "       8.83, 8.86, 8.92, 8.95, 8.96, 8.97, 8.99])"
            ]
          },
          "metadata": {},
          "execution_count": 9
        }
      ]
    },
    {
      "cell_type": "code",
      "source": [
        "# liking classes\n",
        "negative = 0\n",
        "neutral = 0\n",
        "positive = 0\n",
        "for i in range(len(A)):\n",
        "  if A[i] >= 1 and A[i]<=2.99:\n",
        "    A [i] = 1\n",
        "    negative = negative + 1\n",
        "  if A[i] >= 3 and A[i]<=5.99:\n",
        "    A [i] = 2\n",
        "    neutral = neutral + 1\n",
        "  if A[i] >= 6 and A[i]<=8.99:\n",
        "    A [i] = 3\n",
        "    positive = positive + 1\n",
        "\n",
        "print(negative,neutral, positive)"
      ],
      "metadata": {
        "id": "Mtz6j64cK-Gn",
        "colab": {
          "base_uri": "https://localhost:8080/"
        },
        "outputId": "6faf27d4-4562-40eb-b778-6b805945d256"
      },
      "execution_count": null,
      "outputs": [
        {
          "output_type": "stream",
          "name": "stdout",
          "text": [
            "93310 130802 275600\n"
          ]
        }
      ]
    },
    {
      "cell_type": "code",
      "source": [
        "x_train = np.array(X[:])"
      ],
      "metadata": {
        "id": "G-Do5luMLGoY"
      },
      "execution_count": null,
      "outputs": []
    },
    {
      "cell_type": "code",
      "source": [
        "from keras.utils import to_categorical\n",
        "y_train = to_categorical(A)\n",
        "y_train = y_train[:,1:]\n",
        "y_train"
      ],
      "metadata": {
        "colab": {
          "base_uri": "https://localhost:8080/"
        },
        "id": "Hm6HdwkQzwAT",
        "outputId": "8095d3ed-f291-459a-f475-2a11f535815b"
      },
      "execution_count": null,
      "outputs": [
        {
          "output_type": "execute_result",
          "data": {
            "text/plain": [
              "array([[0., 0., 1.],\n",
              "       [0., 0., 1.],\n",
              "       [0., 0., 1.],\n",
              "       ...,\n",
              "       [1., 0., 0.],\n",
              "       [1., 0., 0.],\n",
              "       [1., 0., 0.]], dtype=float32)"
            ]
          },
          "metadata": {},
          "execution_count": 12
        }
      ]
    },
    {
      "cell_type": "code",
      "source": [
        "with open('/content/drive/MyDrive/data_validation/data_validation.npy', 'rb') as fileTrain:\n",
        "    P  = np.load(fileTrain)\n",
        "\n",
        "with open('/content/drive/MyDrive/label_validation/label_validation.npy', 'rb') as fileTrainL:\n",
        "    Q  = np.load(fileTrainL)\n",
        "\n",
        "P = normalize(P)\n",
        "R = np.ravel(Q[:, [3]])\n",
        "\n",
        "Arousal_val = np.ravel(Q[:, [0]])\n",
        "Valence_val = np.ravel(Q[:, [1]])\n",
        "Domain_val = np.ravel(Q[:, [2]])\n",
        "Like_val = np.ravel(Q[:, [3]])\n",
        "\n",
        "for i in range(len(R)):\n",
        "  if R[i] == 9:\n",
        "    R[i] = 8.99"
      ],
      "metadata": {
        "id": "iYJExV-Bu39s"
      },
      "execution_count": null,
      "outputs": []
    },
    {
      "cell_type": "code",
      "source": [
        "B=np.copy(R)\n",
        "\n",
        "np.unique(R)"
      ],
      "metadata": {
        "colab": {
          "base_uri": "https://localhost:8080/"
        },
        "id": "64RZ9GqWvG8V",
        "outputId": "6580abdd-b5c2-47a6-e06d-0eb328309fa0"
      },
      "execution_count": null,
      "outputs": [
        {
          "output_type": "execute_result",
          "data": {
            "text/plain": [
              "array([1.  , 1.01, 1.03, 1.04, 1.05, 1.06, 1.09, 1.1 , 1.12, 1.15, 1.18,\n",
              "       1.22, 1.24, 1.26, 1.33, 1.37, 1.42, 1.44, 1.5 , 1.55, 1.73, 1.77,\n",
              "       1.79, 1.82, 1.83, 1.85, 1.86, 1.87, 1.88, 1.9 , 1.91, 1.92, 1.94,\n",
              "       1.95, 1.96, 1.97, 1.99, 2.  , 2.01, 2.03, 2.04, 2.05, 2.06, 2.08,\n",
              "       2.09, 2.1 , 2.12, 2.13, 2.15, 2.18, 2.23, 2.24, 2.26, 2.28, 2.33,\n",
              "       2.35, 2.36, 2.4 , 2.47, 2.53, 2.54, 2.58, 2.62, 2.73, 2.74, 2.76,\n",
              "       2.78, 2.79, 2.81, 2.82, 2.86, 2.87, 2.88, 2.9 , 2.91, 2.92, 2.94,\n",
              "       2.95, 2.96, 2.97, 2.99, 3.  , 3.01, 3.03, 3.04, 3.05, 3.06, 3.08,\n",
              "       3.12, 3.13, 3.15, 3.17, 3.18, 3.22, 3.23, 3.27, 3.29, 3.35, 3.37,\n",
              "       3.4 , 3.47, 3.49, 3.51, 3.54, 3.55, 3.58, 3.67, 3.69, 3.71, 3.73,\n",
              "       3.74, 3.77, 3.78, 3.81, 3.83, 3.86, 3.87, 3.88, 3.9 , 3.92, 3.94,\n",
              "       3.95, 3.96, 3.97, 3.99, 4.  , 4.01, 4.03, 4.04, 4.05, 4.06, 4.08,\n",
              "       4.09, 4.1 , 4.12, 4.13, 4.14, 4.19, 4.21, 4.22, 4.29, 4.31, 4.36,\n",
              "       4.42, 4.45, 4.46, 4.51, 4.55, 4.59, 4.62, 4.65, 4.71, 4.77, 4.81,\n",
              "       4.87, 4.88, 4.92, 4.94, 4.95, 4.96, 4.97, 4.99, 5.  , 5.01, 5.03,\n",
              "       5.04, 5.05, 5.06, 5.08, 5.09, 5.1 , 5.12, 5.13, 5.14, 5.17, 5.18,\n",
              "       5.19, 5.23, 5.26, 5.29, 5.31, 5.33, 5.36, 5.38, 5.41, 5.44, 5.47,\n",
              "       5.49, 5.5 , 5.51, 5.53, 5.54, 5.55, 5.63, 5.65, 5.67, 5.69, 5.71,\n",
              "       5.72, 5.74, 5.77, 5.79, 5.81, 5.82, 5.83, 5.85, 5.87, 5.88, 5.9 ,\n",
              "       5.91, 5.92, 5.94, 5.95, 5.96, 5.97, 5.99, 6.  , 6.01, 6.03, 6.04,\n",
              "       6.05, 6.06, 6.08, 6.09, 6.1 , 6.12, 6.13, 6.14, 6.15, 6.17, 6.18,\n",
              "       6.19, 6.21, 6.22, 6.23, 6.24, 6.26, 6.27, 6.28, 6.29, 6.31, 6.32,\n",
              "       6.35, 6.36, 6.37, 6.4 , 6.41, 6.42, 6.44, 6.47, 6.49, 6.5 , 6.53,\n",
              "       6.54, 6.55, 6.56, 6.58, 6.59, 6.6 , 6.62, 6.63, 6.64, 6.65, 6.67,\n",
              "       6.68, 6.69, 6.74, 6.77, 6.78, 6.79, 6.81, 6.82, 6.83, 6.85, 6.86,\n",
              "       6.87, 6.88, 6.91, 6.92, 6.94, 6.95, 6.96, 6.97, 6.99, 7.  , 7.01,\n",
              "       7.03, 7.04, 7.05, 7.06, 7.08, 7.09, 7.1 , 7.12, 7.13, 7.14, 7.15,\n",
              "       7.17, 7.18, 7.19, 7.21, 7.22, 7.23, 7.27, 7.29, 7.31, 7.32, 7.33,\n",
              "       7.35, 7.36, 7.37, 7.38, 7.4 , 7.41, 7.42, 7.44, 7.46, 7.47, 7.51,\n",
              "       7.53, 7.54, 7.56, 7.58, 7.59, 7.62, 7.63, 7.67, 7.68, 7.69, 7.71,\n",
              "       7.72, 7.73, 7.74, 7.78, 7.79, 7.81, 7.82, 7.83, 7.85, 7.86, 7.87,\n",
              "       7.9 , 7.91, 7.92, 7.94, 7.95, 7.96, 7.97, 7.99, 8.  , 8.01, 8.03,\n",
              "       8.04, 8.05, 8.06, 8.08, 8.09, 8.1 , 8.12, 8.13, 8.14, 8.15, 8.18,\n",
              "       8.19, 8.22, 8.24, 8.28, 8.32, 8.42, 8.47, 8.51, 8.53, 8.68, 8.77,\n",
              "       8.83, 8.86, 8.92, 8.95, 8.96, 8.97, 8.99])"
            ]
          },
          "metadata": {},
          "execution_count": 14
        }
      ]
    },
    {
      "cell_type": "code",
      "source": [
        "# liking_val classes\n",
        "negative_val = 0\n",
        "neutral_val = 0\n",
        "positive_val = 0\n",
        "for i in range(len(B)):\n",
        "  if B[i] >= 1 and B[i]<=2.99:\n",
        "    B [i] = 1\n",
        "    negative_val = negative_val + 1\n",
        "  if B[i] >= 3 and B[i]<=5.99:\n",
        "    B [i] = 2\n",
        "    neutral_val = neutral_val + 1\n",
        "  if B[i] >= 6 and B[i]<=8.99:\n",
        "    B [i] = 3\n",
        "    positive_val = positive_val + 1\n",
        "\n",
        "print(negative_val,neutral_val, positive_val)"
      ],
      "metadata": {
        "colab": {
          "base_uri": "https://localhost:8080/"
        },
        "id": "MJVjYewgug_d",
        "outputId": "fedc07f1-e615-4b84-e67b-5b85d36b797e"
      },
      "execution_count": null,
      "outputs": [
        {
          "output_type": "stream",
          "name": "stdout",
          "text": [
            "11661 16339 34464\n"
          ]
        }
      ]
    },
    {
      "cell_type": "code",
      "source": [
        "x_val = np.array(P[:])"
      ],
      "metadata": {
        "id": "oD-WNhmwvlyK"
      },
      "execution_count": null,
      "outputs": []
    },
    {
      "cell_type": "code",
      "source": [
        "from keras.utils import to_categorical\n",
        "y_val = to_categorical(B)\n",
        "y_val = y_val[:,1:]\n",
        "y_val"
      ],
      "metadata": {
        "colab": {
          "base_uri": "https://localhost:8080/"
        },
        "id": "aFTKsTlb0MhC",
        "outputId": "e5d23925-787b-435f-8e24-ffaaa6d067f8"
      },
      "execution_count": null,
      "outputs": [
        {
          "output_type": "execute_result",
          "data": {
            "text/plain": [
              "array([[0., 0., 1.],\n",
              "       [0., 0., 1.],\n",
              "       [0., 0., 1.],\n",
              "       ...,\n",
              "       [1., 0., 0.],\n",
              "       [1., 0., 0.],\n",
              "       [1., 0., 0.]], dtype=float32)"
            ]
          },
          "metadata": {},
          "execution_count": 17
        }
      ]
    },
    {
      "cell_type": "code",
      "source": [
        "with open('/content/drive/MyDrive/data_testing/data_testing.npy', 'rb') as fileTrain:\n",
        "    M  = np.load(fileTrain)\n",
        "\n",
        "with open('/content/drive/MyDrive/label_testing/label_testing.npy', 'rb') as fileTrainL:\n",
        "    N  = np.load(fileTrainL)\n",
        "\n",
        "M = normalize(M)\n",
        "L = np.ravel(N[:, [3]])\n",
        "\n",
        "Arousal_Test = np.ravel(N[:, [0]])\n",
        "Valence_Test = np.ravel(N[:, [1]])\n",
        "Domain_Test = np.ravel(N[:, [2]])\n",
        "Like_Test = np.ravel(N[:, [3]])\n",
        "\n",
        "for i in range(len(L)):\n",
        "  if L[i] == 9:\n",
        "    L[i] = 8.99"
      ],
      "metadata": {
        "id": "mATFeu0MLm1p"
      },
      "execution_count": null,
      "outputs": []
    },
    {
      "cell_type": "code",
      "source": [
        "C=np.copy(L)\n",
        "\n",
        "np.unique(L)"
      ],
      "metadata": {
        "colab": {
          "base_uri": "https://localhost:8080/"
        },
        "id": "qCzNtVdovcdh",
        "outputId": "6ede5b98-2155-44c1-9219-48c98bf60c3f"
      },
      "execution_count": null,
      "outputs": [
        {
          "output_type": "execute_result",
          "data": {
            "text/plain": [
              "array([1.  , 1.01, 1.03, 1.04, 1.05, 1.06, 1.09, 1.1 , 1.12, 1.15, 1.18,\n",
              "       1.22, 1.24, 1.26, 1.33, 1.37, 1.42, 1.44, 1.5 , 1.55, 1.73, 1.77,\n",
              "       1.79, 1.82, 1.83, 1.85, 1.86, 1.87, 1.88, 1.9 , 1.91, 1.92, 1.94,\n",
              "       1.95, 1.96, 1.97, 1.99, 2.  , 2.01, 2.03, 2.04, 2.05, 2.06, 2.08,\n",
              "       2.09, 2.1 , 2.12, 2.13, 2.15, 2.18, 2.23, 2.24, 2.26, 2.28, 2.33,\n",
              "       2.35, 2.36, 2.4 , 2.47, 2.53, 2.54, 2.58, 2.62, 2.73, 2.74, 2.76,\n",
              "       2.78, 2.79, 2.81, 2.82, 2.86, 2.87, 2.88, 2.9 , 2.91, 2.92, 2.94,\n",
              "       2.95, 2.96, 2.97, 2.99, 3.  , 3.01, 3.03, 3.04, 3.05, 3.06, 3.08,\n",
              "       3.12, 3.13, 3.15, 3.17, 3.18, 3.22, 3.23, 3.27, 3.29, 3.35, 3.37,\n",
              "       3.4 , 3.47, 3.49, 3.51, 3.54, 3.55, 3.58, 3.67, 3.69, 3.71, 3.73,\n",
              "       3.74, 3.77, 3.78, 3.81, 3.83, 3.86, 3.87, 3.88, 3.9 , 3.92, 3.94,\n",
              "       3.95, 3.96, 3.97, 3.99, 4.  , 4.01, 4.03, 4.04, 4.05, 4.06, 4.08,\n",
              "       4.09, 4.1 , 4.12, 4.13, 4.14, 4.19, 4.21, 4.22, 4.29, 4.31, 4.36,\n",
              "       4.42, 4.45, 4.46, 4.51, 4.55, 4.59, 4.62, 4.65, 4.71, 4.77, 4.81,\n",
              "       4.87, 4.88, 4.92, 4.94, 4.95, 4.96, 4.97, 4.99, 5.  , 5.01, 5.03,\n",
              "       5.04, 5.05, 5.06, 5.08, 5.09, 5.1 , 5.12, 5.13, 5.14, 5.17, 5.18,\n",
              "       5.19, 5.23, 5.26, 5.29, 5.31, 5.33, 5.36, 5.38, 5.41, 5.44, 5.47,\n",
              "       5.49, 5.5 , 5.51, 5.53, 5.54, 5.55, 5.63, 5.65, 5.67, 5.69, 5.71,\n",
              "       5.72, 5.74, 5.77, 5.79, 5.81, 5.82, 5.83, 5.85, 5.87, 5.88, 5.9 ,\n",
              "       5.91, 5.92, 5.94, 5.95, 5.96, 5.97, 5.99, 6.  , 6.01, 6.03, 6.04,\n",
              "       6.05, 6.06, 6.08, 6.09, 6.1 , 6.12, 6.13, 6.14, 6.15, 6.17, 6.18,\n",
              "       6.19, 6.21, 6.22, 6.23, 6.24, 6.26, 6.27, 6.28, 6.29, 6.31, 6.32,\n",
              "       6.35, 6.36, 6.37, 6.4 , 6.41, 6.42, 6.44, 6.47, 6.49, 6.5 , 6.53,\n",
              "       6.54, 6.55, 6.56, 6.58, 6.59, 6.6 , 6.62, 6.63, 6.64, 6.65, 6.67,\n",
              "       6.68, 6.69, 6.74, 6.77, 6.78, 6.79, 6.81, 6.82, 6.83, 6.85, 6.86,\n",
              "       6.87, 6.88, 6.91, 6.92, 6.94, 6.95, 6.96, 6.97, 6.99, 7.  , 7.01,\n",
              "       7.03, 7.04, 7.05, 7.06, 7.08, 7.09, 7.1 , 7.12, 7.13, 7.14, 7.15,\n",
              "       7.17, 7.18, 7.19, 7.21, 7.22, 7.23, 7.27, 7.29, 7.31, 7.32, 7.33,\n",
              "       7.35, 7.36, 7.37, 7.38, 7.4 , 7.41, 7.42, 7.44, 7.46, 7.47, 7.51,\n",
              "       7.53, 7.54, 7.56, 7.58, 7.59, 7.62, 7.63, 7.67, 7.68, 7.69, 7.71,\n",
              "       7.72, 7.73, 7.74, 7.78, 7.79, 7.81, 7.82, 7.83, 7.85, 7.86, 7.87,\n",
              "       7.9 , 7.91, 7.92, 7.94, 7.95, 7.96, 7.97, 7.99, 8.  , 8.01, 8.03,\n",
              "       8.04, 8.05, 8.06, 8.08, 8.09, 8.1 , 8.12, 8.13, 8.14, 8.15, 8.18,\n",
              "       8.19, 8.22, 8.24, 8.28, 8.32, 8.42, 8.47, 8.51, 8.53, 8.68, 8.77,\n",
              "       8.83, 8.86, 8.92, 8.95, 8.96, 8.97, 8.99])"
            ]
          },
          "metadata": {},
          "execution_count": 19
        }
      ]
    },
    {
      "cell_type": "code",
      "source": [
        "# liking_test classes\n",
        "negative_test = 0\n",
        "neutral_test = 0\n",
        "positive_test = 0\n",
        "for i in range(len(C)):\n",
        "  if C[i] >= 1 and C[i]<=2.99:\n",
        "    C [i] = 1\n",
        "    negative_test = negative_test + 1\n",
        "  if C[i] >= 3 and C[i]<=5.99:\n",
        "    C [i] = 2\n",
        "    neutral_test = neutral_test + 1\n",
        "  if C[i] >= 6 and C[i]<=8.99:\n",
        "    C [i] = 3\n",
        "    positive_test = positive_test + 1\n",
        "\n",
        "print(negative_test,neutral_test, positive_test)"
      ],
      "metadata": {
        "colab": {
          "base_uri": "https://localhost:8080/"
        },
        "id": "i6Kuk3UKvxHv",
        "outputId": "581f54d1-396f-4e7f-8398-09e06f30fa55"
      },
      "execution_count": null,
      "outputs": [
        {
          "output_type": "stream",
          "name": "stdout",
          "text": [
            "11661 16339 34464\n"
          ]
        }
      ]
    },
    {
      "cell_type": "code",
      "source": [
        "x_test = np.array(M[:])"
      ],
      "metadata": {
        "id": "nfpZeIR-vcut"
      },
      "execution_count": null,
      "outputs": []
    },
    {
      "cell_type": "code",
      "source": [
        "from keras.utils import to_categorical\n",
        "y_test = to_categorical(C)\n",
        "y_test = y_test[:,1:]\n",
        "y_test"
      ],
      "metadata": {
        "colab": {
          "base_uri": "https://localhost:8080/"
        },
        "id": "X7IJ9lpZ0Ux7",
        "outputId": "dfd2d846-8f32-4e33-b92e-ef906e138358"
      },
      "execution_count": null,
      "outputs": [
        {
          "output_type": "execute_result",
          "data": {
            "text/plain": [
              "array([[0., 0., 1.],\n",
              "       [0., 0., 1.],\n",
              "       [0., 0., 1.],\n",
              "       ...,\n",
              "       [1., 0., 0.],\n",
              "       [1., 0., 0.],\n",
              "       [1., 0., 0.]], dtype=float32)"
            ]
          },
          "metadata": {},
          "execution_count": 22
        }
      ]
    },
    {
      "cell_type": "code",
      "source": [
        "from sklearn.preprocessing import StandardScaler\n",
        "scaler = StandardScaler()\n",
        "x_train = scaler.fit_transform(x_train)\n",
        "x_val = scaler.fit_transform(x_val)\n",
        "x_test = scaler.fit_transform(x_test)"
      ],
      "metadata": {
        "id": "smzCG-XXL87l"
      },
      "execution_count": null,
      "outputs": []
    },
    {
      "cell_type": "code",
      "source": [
        "x_train = x_train.reshape(x_train.shape[0],x_train.shape[1], 1)\n",
        "x_val = x_val.reshape(x_val.shape[0],x_val.shape[1], 1)\n",
        "x_test = x_test.reshape(x_test.shape[0],x_test.shape[1], 1)"
      ],
      "metadata": {
        "id": "S4QeQRPEMUHg"
      },
      "execution_count": null,
      "outputs": []
    },
    {
      "cell_type": "code",
      "source": [
        "print(y_train.shape)\n",
        "print(y_val.shape)\n",
        "print(y_test.shape)"
      ],
      "metadata": {
        "colab": {
          "base_uri": "https://localhost:8080/"
        },
        "id": "huFOAk-exf7f",
        "outputId": "90872193-030c-4658-901a-d81f263b473e"
      },
      "execution_count": null,
      "outputs": [
        {
          "output_type": "stream",
          "name": "stdout",
          "text": [
            "(499712, 3)\n",
            "(62464, 3)\n",
            "(62464, 3)\n"
          ]
        }
      ]
    },
    {
      "cell_type": "code",
      "source": [
        "batch_size = 256\n",
        "num_classes = 3\n",
        "epochs = 10\n",
        "input_shape=(x_train.shape[1], 1)"
      ],
      "metadata": {
        "id": "0nkS8QOEMYrF"
      },
      "execution_count": null,
      "outputs": []
    },
    {
      "cell_type": "code",
      "source": [
        "print(input_shape)"
      ],
      "metadata": {
        "colab": {
          "base_uri": "https://localhost:8080/"
        },
        "id": "h71haf5VxkJW",
        "outputId": "07acfb62-17b8-4188-ff72-90477b74d896"
      },
      "execution_count": null,
      "outputs": [
        {
          "output_type": "stream",
          "name": "stdout",
          "text": [
            "(75, 1)\n"
          ]
        }
      ]
    },
    {
      "cell_type": "code",
      "source": [
        "class F1Score(tf.keras.metrics.Metric):\n",
        "    def __init__(self, name='f1_score', **kwargs):\n",
        "        super(F1Score, self).__init__(name=name, **kwargs)\n",
        "        self.precision = tf.keras.metrics.Precision()\n",
        "        self.recall = tf.keras.metrics.Recall()\n",
        "\n",
        "    def update_state(self, y_true, y_pred, sample_weight=None):\n",
        "        self.precision.update_state(y_true, y_pred, sample_weight=sample_weight)\n",
        "        self.recall.update_state(y_true, y_pred, sample_weight=sample_weight)\n",
        "\n",
        "    def result(self):\n",
        "        precision = self.precision.result()\n",
        "        recall = self.recall.result()\n",
        "        return 2 * ((precision * recall) / (precision + recall + tf.keras.backend.epsilon()))\n",
        "\n",
        "    def reset_states(self):\n",
        "        self.precision.reset_states()\n",
        "        self.recall.reset_states()"
      ],
      "metadata": {
        "id": "If20OeaTxnXh"
      },
      "execution_count": null,
      "outputs": []
    },
    {
      "cell_type": "markdown",
      "source": [
        "For Liking"
      ],
      "metadata": {
        "id": "bf2XfSali1vR"
      }
    },
    {
      "cell_type": "markdown",
      "source": [
        "Model CNN"
      ],
      "metadata": {
        "id": "Ft5sSmBOi-Q_"
      }
    },
    {
      "cell_type": "code",
      "source": [
        "from keras.layers import Convolution1D, ZeroPadding1D, MaxPooling1D, BatchNormalization, Activation, Dropout, Flatten, Dense,GRU,SpatialDropout1D,Bidirectional\n",
        "from keras.regularizers import l2"
      ],
      "metadata": {
        "id": "mpMk7KQljJxK"
      },
      "execution_count": null,
      "outputs": []
    },
    {
      "cell_type": "code",
      "source": [
        "modelA = Sequential()\n",
        "\n",
        "intput_shape=(x_train.shape[1], 1)\n",
        "\n",
        "modelA.add(Conv1D(1024, kernel_size=9,padding = 'same',activation='relu', input_shape=input_shape))\n",
        "modelA.add(BatchNormalization())\n",
        "modelA.add(MaxPooling1D(pool_size=(2)))\n",
        "\n",
        "modelA.add(Conv1D(512,kernel_size=6,padding = 'same', activation='relu'))\n",
        "modelA.add(BatchNormalization())\n",
        "modelA.add(MaxPooling1D(pool_size=(2)))\n",
        "\n",
        "modelA.add(Conv1D(256,kernel_size=6,padding = 'same', activation='relu'))\n",
        "modelA.add(BatchNormalization())\n",
        "modelA.add(MaxPooling1D(pool_size=(2)))\n",
        "\n",
        "modelA.add(Conv1D(128,kernel_size=6,padding = 'same', activation='relu'))\n",
        "modelA.add(BatchNormalization())\n",
        "modelA.add(MaxPooling1D(pool_size=(2)))\n",
        "\n",
        "modelA.add(Flatten())\n",
        "\n",
        "modelA.add(Dense(1024, activation='relu'))\n",
        "modelA.add(Dropout(0.2))\n",
        "\n",
        "modelA.add(Dense(256, activation='relu'))\n",
        "modelA.add(Dropout(0.2))\n",
        "\n",
        "modelA.add(Dense(64, activation='relu'))\n",
        "modelA.add(Dropout(0.2))\n",
        "\n",
        "modelA.add(Dense(num_classesA, activation='softmax'))\n",
        "modelA.summary()"
      ],
      "metadata": {
        "id": "6XoE4dATjJ50"
      },
      "execution_count": null,
      "outputs": []
    },
    {
      "cell_type": "markdown",
      "source": [
        "Model CNN+BiLSTM"
      ],
      "metadata": {
        "id": "sAVbz1WXjFAP"
      }
    },
    {
      "cell_type": "code",
      "source": [
        "model_HB = Sequential()\n",
        "\n",
        "intput_shape=(x_train.shape[1], 1)\n",
        "\n",
        "model_HB.add(Conv1D(1024, kernel_size=9,padding = 'same',activation='relu', input_shape=input_shape))\n",
        "model_HB.add(BatchNormalization())\n",
        "model_HB.add(MaxPooling1D(pool_size=(2)))\n",
        "\n",
        "model_HB.add(Conv1D(512,kernel_size=6,padding = 'same', activation='relu'))\n",
        "model_HB.add(BatchNormalization())\n",
        "model_HB.add(MaxPooling1D(pool_size=(2)))\n",
        "\n",
        "model_HB.add(Conv1D(256,kernel_size=6,padding = 'same', activation='relu'))\n",
        "model_HB.add(BatchNormalization())\n",
        "model_HB.add(MaxPooling1D(pool_size=(2)))\n",
        "\n",
        "model_HB.add(Conv1D(128,kernel_size=6,padding = 'same', activation='relu'))\n",
        "model_HB.add(BatchNormalization())\n",
        "model_HB.add(MaxPooling1D(pool_size=(2)))\n",
        "\n",
        "\n",
        "model_HB.add(LSTM(units=64,return_sequences=True))\n",
        "model_HB.add(SeqSelfAttention(attention_activation='tanh'))\n",
        "model_HB.add(Dropout(0.2))\n",
        "\n",
        "model_HB.add(LSTM(units=128,return_sequences=True))\n",
        "model_HB.add(SeqSelfAttention(attention_activation='tanh'))\n",
        "model_HB.add(Dropout(0.2))\n",
        "\n",
        "model_HB.add(LSTM(units=128,return_sequences=True))\n",
        "model_HB.add(SeqSelfAttention(attention_activation='tanh'))\n",
        "model_HB.add(Dropout(0.2))\n",
        "\n",
        "model_HB.add(LSTM(units=256,return_sequences=True))\n",
        "model_HB.add(SeqSelfAttention(attention_activation='tanh'))\n",
        "\n",
        "model_HB.add(Flatten())\n",
        "\n",
        "model_HB.add(Dense(1024, activation='relu'))\n",
        "model_HB.add(Dropout(0.2))\n",
        "\n",
        "model_HB.add(Dense(256, activation='relu'))\n",
        "model_HB.add(Dropout(0.2))\n",
        "\n",
        "model_HB.add(Dense(64, activation='relu'))\n",
        "model_HB.add(Dropout(0.2))\n",
        "\n",
        "model_HB.add(Dense(num_classes, activation='softmax'))\n",
        "\n",
        "model_HB.summary()"
      ],
      "metadata": {
        "colab": {
          "base_uri": "https://localhost:8080/"
        },
        "id": "WeTHKFH-xqMu",
        "outputId": "999ebb52-6366-4d1d-8d63-78aa599f2559"
      },
      "execution_count": null,
      "outputs": [
        {
          "output_type": "stream",
          "name": "stdout",
          "text": [
            "Model: \"sequential\"\n",
            "_________________________________________________________________\n",
            " Layer (type)                Output Shape              Param #   \n",
            "=================================================================\n",
            " conv1d (Conv1D)             (None, 75, 1024)          10240     \n",
            "                                                                 \n",
            " batch_normalization (Batch  (None, 75, 1024)          4096      \n",
            " Normalization)                                                  \n",
            "                                                                 \n",
            " max_pooling1d (MaxPooling1  (None, 37, 1024)          0         \n",
            " D)                                                              \n",
            "                                                                 \n",
            " conv1d_1 (Conv1D)           (None, 37, 512)           3146240   \n",
            "                                                                 \n",
            " batch_normalization_1 (Bat  (None, 37, 512)           2048      \n",
            " chNormalization)                                                \n",
            "                                                                 \n",
            " max_pooling1d_1 (MaxPoolin  (None, 18, 512)           0         \n",
            " g1D)                                                            \n",
            "                                                                 \n",
            " conv1d_2 (Conv1D)           (None, 18, 256)           786688    \n",
            "                                                                 \n",
            " batch_normalization_2 (Bat  (None, 18, 256)           1024      \n",
            " chNormalization)                                                \n",
            "                                                                 \n",
            " max_pooling1d_2 (MaxPoolin  (None, 9, 256)            0         \n",
            " g1D)                                                            \n",
            "                                                                 \n",
            " conv1d_3 (Conv1D)           (None, 9, 128)            196736    \n",
            "                                                                 \n",
            " batch_normalization_3 (Bat  (None, 9, 128)            512       \n",
            " chNormalization)                                                \n",
            "                                                                 \n",
            " max_pooling1d_3 (MaxPoolin  (None, 4, 128)            0         \n",
            " g1D)                                                            \n",
            "                                                                 \n",
            " lstm (LSTM)                 (None, 4, 64)             49408     \n",
            "                                                                 \n",
            " seq_self_attention (SeqSel  (None, 4, 64)             4161      \n",
            " fAttention)                                                     \n",
            "                                                                 \n",
            " dropout (Dropout)           (None, 4, 64)             0         \n",
            "                                                                 \n",
            " lstm_1 (LSTM)               (None, 4, 128)            98816     \n",
            "                                                                 \n",
            " seq_self_attention_1 (SeqS  (None, 4, 128)            8257      \n",
            " elfAttention)                                                   \n",
            "                                                                 \n",
            " dropout_1 (Dropout)         (None, 4, 128)            0         \n",
            "                                                                 \n",
            " lstm_2 (LSTM)               (None, 4, 128)            131584    \n",
            "                                                                 \n",
            " seq_self_attention_2 (SeqS  (None, 4, 128)            8257      \n",
            " elfAttention)                                                   \n",
            "                                                                 \n",
            " dropout_2 (Dropout)         (None, 4, 128)            0         \n",
            "                                                                 \n",
            " lstm_3 (LSTM)               (None, 4, 256)            394240    \n",
            "                                                                 \n",
            " seq_self_attention_3 (SeqS  (None, 4, 256)            16449     \n",
            " elfAttention)                                                   \n",
            "                                                                 \n",
            " flatten (Flatten)           (None, 1024)              0         \n",
            "                                                                 \n",
            " dense (Dense)               (None, 1024)              1049600   \n",
            "                                                                 \n",
            " dropout_3 (Dropout)         (None, 1024)              0         \n",
            "                                                                 \n",
            " dense_1 (Dense)             (None, 256)               262400    \n",
            "                                                                 \n",
            " dropout_4 (Dropout)         (None, 256)               0         \n",
            "                                                                 \n",
            " dense_2 (Dense)             (None, 64)                16448     \n",
            "                                                                 \n",
            " dropout_5 (Dropout)         (None, 64)                0         \n",
            "                                                                 \n",
            " dense_3 (Dense)             (None, 3)                 195       \n",
            "                                                                 \n",
            "=================================================================\n",
            "Total params: 6187399 (23.60 MB)\n",
            "Trainable params: 6183559 (23.59 MB)\n",
            "Non-trainable params: 3840 (15.00 KB)\n",
            "_________________________________________________________________\n"
          ]
        }
      ]
    },
    {
      "cell_type": "code",
      "source": [
        "model_HB.compile(\n",
        "    loss=keras.losses.categorical_crossentropy,\n",
        "    optimizer='adam',\n",
        "    metrics=['accuracy', Precision(), F1Score()]\n",
        ")"
      ],
      "metadata": {
        "id": "glB37pifxs1Y"
      },
      "execution_count": null,
      "outputs": []
    },
    {
      "cell_type": "code",
      "source": [
        "model_name = \"FHybrid_model\"\n",
        "directory_path = \"/content/drive/MyDrive/Thesis\"\n",
        "weights_filename = \"weights-improvement_\" + model_name + \".hdf5\"\n",
        "os.makedirs(directory_path, exist_ok=True)\n",
        "\n",
        "# Complete file path for the model weights\n",
        "filepath_CLB = os.path.join(directory_path, weights_filename)\n",
        "print(\"Model weights will be saved to:\", filepath_CLB)\n",
        "\n",
        "checkpoint = ModelCheckpoint(filepath_CLB, monitor='val_accuracy', verbose=1, save_best_only=True, mode='max')\n",
        "\n",
        "es = EarlyStopping(monitor='val_accuracy', mode='max', verbose=1, patience=15)\n",
        "\n",
        "reduce_lr = ReduceLROnPlateau(monitor='val_accuracy', mode='max', factor=0.2, patience=2, min_lr=0.001, verbose=1)\n",
        "\n",
        "# Combine all callbacks in a list\n",
        "callbacks_list = [es, checkpoint, reduce_lr]"
      ],
      "metadata": {
        "id": "ZGJw62mFxwam",
        "colab": {
          "base_uri": "https://localhost:8080/"
        },
        "outputId": "e5a9aefe-d10b-4b1a-e59a-9133a2812e27"
      },
      "execution_count": null,
      "outputs": [
        {
          "output_type": "stream",
          "name": "stdout",
          "text": [
            "Model weights will be saved to: /content/drive/MyDrive/Thesis/weights-improvement_FHybrid_model.hdf5\n"
          ]
        }
      ]
    },
    {
      "cell_type": "code",
      "source": [
        "FHybridmodel = model_HB.fit(x_train, y_train,\n",
        "          batch_size=batch_size,\n",
        "          epochs=epochs,\n",
        "          verbose=1,\n",
        "          validation_data=(x_val, y_val),\n",
        "          callbacks= callbacks_list)"
      ],
      "metadata": {
        "id": "s947cW8Cxz8w",
        "colab": {
          "base_uri": "https://localhost:8080/"
        },
        "outputId": "9435b6f7-dfaa-4330-fd4c-42380e8c22d8"
      },
      "execution_count": null,
      "outputs": [
        {
          "output_type": "stream",
          "name": "stdout",
          "text": [
            "Epoch 1/10\n",
            "1952/1952 [==============================] - ETA: 0s - loss: 0.8268 - accuracy: 0.6054 - precision: 0.6582 - f1_score: 0.5617\n",
            "Epoch 1: val_accuracy improved from -inf to 0.65409, saving model to /content/drive/MyDrive/Thesis/weights-improvement_FHybrid_model.hdf5\n",
            "1952/1952 [==============================] - 203s 91ms/step - loss: 0.8268 - accuracy: 0.6054 - precision: 0.6582 - f1_score: 0.5617 - val_loss: 0.7420 - val_accuracy: 0.6541 - val_precision: 0.6901 - val_f1_score: 0.6382 - lr: 0.0010\n",
            "Epoch 2/10\n",
            "1952/1952 [==============================] - ETA: 0s - loss: 0.6823 - accuracy: 0.6863 - precision: 0.7310 - f1_score: 0.6682\n",
            "Epoch 2: val_accuracy improved from 0.65409 to 0.71233, saving model to /content/drive/MyDrive/Thesis/weights-improvement_FHybrid_model.hdf5\n",
            "1952/1952 [==============================] - 180s 92ms/step - loss: 0.6823 - accuracy: 0.6863 - precision: 0.7310 - f1_score: 0.6682 - val_loss: 0.6294 - val_accuracy: 0.7123 - val_precision: 0.7506 - val_f1_score: 0.7021 - lr: 0.0010\n",
            "Epoch 3/10\n",
            "1952/1952 [==============================] - ETA: 0s - loss: 0.5662 - accuracy: 0.7476 - precision: 0.7856 - f1_score: 0.7384\n",
            "Epoch 3: val_accuracy improved from 0.71233 to 0.76633, saving model to /content/drive/MyDrive/Thesis/weights-improvement_FHybrid_model.hdf5\n",
            "1952/1952 [==============================] - 177s 91ms/step - loss: 0.5662 - accuracy: 0.7476 - precision: 0.7856 - f1_score: 0.7384 - val_loss: 0.5319 - val_accuracy: 0.7663 - val_precision: 0.8073 - val_f1_score: 0.7583 - lr: 0.0010\n",
            "Epoch 4/10\n",
            "1952/1952 [==============================] - ETA: 0s - loss: 0.4750 - accuracy: 0.7933 - precision: 0.8258 - f1_score: 0.7887\n",
            "Epoch 4: val_accuracy improved from 0.76633 to 0.79764, saving model to /content/drive/MyDrive/Thesis/weights-improvement_FHybrid_model.hdf5\n",
            "1952/1952 [==============================] - 178s 91ms/step - loss: 0.4750 - accuracy: 0.7933 - precision: 0.8258 - f1_score: 0.7887 - val_loss: 0.4687 - val_accuracy: 0.7976 - val_precision: 0.8304 - val_f1_score: 0.7929 - lr: 0.0010\n",
            "Epoch 5/10\n",
            "1952/1952 [==============================] - ETA: 0s - loss: 0.4062 - accuracy: 0.8274 - precision: 0.8535 - f1_score: 0.8248\n",
            "Epoch 5: val_accuracy improved from 0.79764 to 0.81631, saving model to /content/drive/MyDrive/Thesis/weights-improvement_FHybrid_model.hdf5\n",
            "1952/1952 [==============================] - 183s 93ms/step - loss: 0.4062 - accuracy: 0.8274 - precision: 0.8535 - f1_score: 0.8248 - val_loss: 0.4472 - val_accuracy: 0.8163 - val_precision: 0.8340 - val_f1_score: 0.8149 - lr: 0.0010\n",
            "Epoch 6/10\n",
            "1952/1952 [==============================] - ETA: 0s - loss: 0.3543 - accuracy: 0.8521 - precision: 0.8742 - f1_score: 0.8508\n",
            "Epoch 6: val_accuracy improved from 0.81631 to 0.83511, saving model to /content/drive/MyDrive/Thesis/weights-improvement_FHybrid_model.hdf5\n",
            "1952/1952 [==============================] - 182s 93ms/step - loss: 0.3543 - accuracy: 0.8521 - precision: 0.8742 - f1_score: 0.8508 - val_loss: 0.3998 - val_accuracy: 0.8351 - val_precision: 0.8551 - val_f1_score: 0.8342 - lr: 0.0010\n",
            "Epoch 7/10\n",
            "1952/1952 [==============================] - ETA: 0s - loss: 0.3121 - accuracy: 0.8714 - precision: 0.8895 - f1_score: 0.8705\n",
            "Epoch 7: val_accuracy improved from 0.83511 to 0.85148, saving model to /content/drive/MyDrive/Thesis/weights-improvement_FHybrid_model.hdf5\n",
            "1952/1952 [==============================] - 182s 93ms/step - loss: 0.3121 - accuracy: 0.8714 - precision: 0.8895 - f1_score: 0.8705 - val_loss: 0.3770 - val_accuracy: 0.8515 - val_precision: 0.8731 - val_f1_score: 0.8501 - lr: 0.0010\n",
            "Epoch 8/10\n",
            "1952/1952 [==============================] - ETA: 0s - loss: 0.2802 - accuracy: 0.8861 - precision: 0.9025 - f1_score: 0.8859\n",
            "Epoch 8: val_accuracy improved from 0.85148 to 0.85939, saving model to /content/drive/MyDrive/Thesis/weights-improvement_FHybrid_model.hdf5\n",
            "1952/1952 [==============================] - 177s 91ms/step - loss: 0.2802 - accuracy: 0.8861 - precision: 0.9025 - f1_score: 0.8859 - val_loss: 0.3638 - val_accuracy: 0.8594 - val_precision: 0.8723 - val_f1_score: 0.8590 - lr: 0.0010\n",
            "Epoch 9/10\n",
            "1952/1952 [==============================] - ETA: 0s - loss: 0.2531 - accuracy: 0.8983 - precision: 0.9126 - f1_score: 0.8981\n",
            "Epoch 9: val_accuracy improved from 0.85939 to 0.86317, saving model to /content/drive/MyDrive/Thesis/weights-improvement_FHybrid_model.hdf5\n",
            "1952/1952 [==============================] - 182s 93ms/step - loss: 0.2531 - accuracy: 0.8983 - precision: 0.9126 - f1_score: 0.8981 - val_loss: 0.3520 - val_accuracy: 0.8632 - val_precision: 0.8751 - val_f1_score: 0.8635 - lr: 0.0010\n",
            "Epoch 10/10\n",
            "1952/1952 [==============================] - ETA: 0s - loss: 0.2333 - accuracy: 0.9070 - precision: 0.9190 - f1_score: 0.9069\n",
            "Epoch 10: val_accuracy improved from 0.86317 to 0.87268, saving model to /content/drive/MyDrive/Thesis/weights-improvement_FHybrid_model.hdf5\n",
            "1952/1952 [==============================] - 181s 93ms/step - loss: 0.2333 - accuracy: 0.9070 - precision: 0.9190 - f1_score: 0.9069 - val_loss: 0.3448 - val_accuracy: 0.8727 - val_precision: 0.8811 - val_f1_score: 0.8728 - lr: 0.0010\n"
          ]
        }
      ]
    },
    {
      "cell_type": "code",
      "source": [
        "score_Hybrid = model_HB.evaluate(x_test, y_test, verbose=1)\n",
        "print('Test loss:', score_Hybrid[0])\n",
        "print('Test accuracy:', score_Hybrid[1])\n",
        "print('Test precision:', score_Hybrid[2])\n",
        "print('Test f1_score:', score_Hybrid[3])"
      ],
      "metadata": {
        "colab": {
          "base_uri": "https://localhost:8080/"
        },
        "id": "fEE8RSlx2yyI",
        "outputId": "136a29db-ed03-41c4-9751-8aaa7e19ace0"
      },
      "execution_count": null,
      "outputs": [
        {
          "output_type": "stream",
          "name": "stdout",
          "text": [
            "1952/1952 [==============================] - 16s 8ms/step - loss: 0.3453 - accuracy: 0.8724 - precision: 0.8812 - f1_score: 0.8726\n",
            "Test loss: 0.34534940123558044\n",
            "Test accuracy: 0.8723905086517334\n",
            "Test precision: 0.8811739087104797\n",
            "Test f1_score: 0.8726420402526855\n"
          ]
        }
      ]
    },
    {
      "cell_type": "markdown",
      "source": [
        "VALANCE PLOTS"
      ],
      "metadata": {
        "id": "HaC5IT0g6lUS"
      }
    },
    {
      "cell_type": "code",
      "source": [
        "# Plot training & validation accuracy values\n",
        "plt.plot(FHybridmodel.history['accuracy'])\n",
        "plt.plot(FHybridmodel.history['val_accuracy'])\n",
        "plt.title('Model accuracy')\n",
        "plt.ylabel('Accuracy')\n",
        "plt.xlabel('Epoch')\n",
        "plt.legend(['Train', 'Test'], loc='upper left')\n",
        "plt.show()\n",
        "\n",
        "# Plot training & validation loss values\n",
        "plt.plot(FHybridmodel.history['loss'])\n",
        "plt.plot(FHybridmodel.history['val_loss'])\n",
        "plt.title('Model loss')\n",
        "plt.ylabel('Loss')\n",
        "plt.xlabel('Epoch')\n",
        "plt.legend(['Train', 'Test'], loc='upper left')\n",
        "plt.show()"
      ],
      "metadata": {
        "colab": {
          "base_uri": "https://localhost:8080/",
          "height": 927
        },
        "id": "VA_3rvJa22qz",
        "outputId": "9e249160-3385-441f-c1b8-6656bd5631ee"
      },
      "execution_count": null,
      "outputs": [
        {
          "output_type": "display_data",
          "data": {
            "text/plain": [
              "<Figure size 640x480 with 1 Axes>"
            ],
            "image/png": "[encoded data removed]"
          },
          "metadata": {}
        },
        {
          "output_type": "display_data",
          "data": {
            "text/plain": [
              "<Figure size 640x480 with 1 Axes>"
            ],
            "image/png": "[encoded data removed]"
          },
          "metadata": {}
        }
      ]
    },
    {
      "cell_type": "code",
      "source": [
        "from sklearn.metrics import confusion_matrix\n",
        "import seaborn as sns\n",
        "\n",
        "# Convert one-hot encoded predictions and labels to class indices\n",
        "y_pred_classes = np.argmax(model_HB.predict(x_val), axis=1)\n",
        "y_true_classes = np.argmax(y_val, axis=1)\n",
        "\n",
        "# Compute confusion matrix\n",
        "cm = confusion_matrix(y_true_classes, y_pred_classes)\n",
        "\n",
        "# Plot confusion matrix\n",
        "plt.figure(figsize=(10, 7))\n",
        "sns.heatmap(cm, annot=True, fmt=\"d\", cmap=\"Blues\")\n",
        "plt.title('Confusion Matrix')\n",
        "plt.ylabel('True label')\n",
        "plt.xlabel('Predicted label')\n",
        "plt.show()"
      ],
      "metadata": {
        "id": "1DMCuK_-x_g7",
        "colab": {
          "base_uri": "https://localhost:8080/",
          "height": 658
        },
        "outputId": "75bd797f-f13d-4d35-cbb7-49abe189a5d9"
      },
      "execution_count": null,
      "outputs": [
        {
          "output_type": "stream",
          "name": "stdout",
          "text": [
            "1952/1952 [==============================] - 15s 7ms/step\n"
          ]
        },
        {
          "output_type": "display_data",
          "data": {
            "text/plain": [
              "<Figure size 1000x700 with 2 Axes>"
            ],
            "image/png": "[encoded data removed]"
          },
          "metadata": {}
        }
      ]
    },
    {
      "cell_type": "code",
      "source": [
        "base_path_model = \"/content/drive/MyDrive/Thesis/\"\n",
        "accuracy = \"_87\"\n",
        "\n",
        "path_model_HB = base_path_model + model_name + accuracy + \".h5\"\n",
        "model_HB.save(path_model_HB)\n",
        "print(path_model_HB)"
      ],
      "metadata": {
        "id": "_ZwS4f_TyERu",
        "colab": {
          "base_uri": "https://localhost:8080/"
        },
        "outputId": "17cb95de-0fcf-4a67-df3b-6153e82abb71"
      },
      "execution_count": null,
      "outputs": [
        {
          "output_type": "stream",
          "name": "stdout",
          "text": [
            "/content/drive/MyDrive/Thesis/FHybrid_model_87.h5\n"
          ]
        }
      ]
    },
    {
      "cell_type": "markdown",
      "source": [
        "FOR LIKING\n"
      ],
      "metadata": {
        "id": "qRFgvV4c_Xt7"
      }
    },
    {
      "cell_type": "code",
      "source": [
        "model_name = \"FHybrid_model_liking\"\n",
        "directory_path = \"/content/drive/MyDrive/Thesis\"\n",
        "weights_filename = \"weights-improvement_\" + model_name + \".hdf5\"\n",
        "os.makedirs(directory_path, exist_ok=True)\n",
        "\n",
        "# Complete file path for the model weights\n",
        "filepath_CLB = os.path.join(directory_path, weights_filename)\n",
        "print(\"Model weights will be saved to:\", filepath_CLB)\n",
        "\n",
        "checkpoint = ModelCheckpoint(filepath_CLB, monitor='val_accuracy', verbose=1, save_best_only=True, mode='max')\n",
        "\n",
        "es = EarlyStopping(monitor='val_accuracy', mode='max', verbose=1, patience=15)\n",
        "\n",
        "reduce_lr = ReduceLROnPlateau(monitor='val_accuracy', mode='max', factor=0.2, patience=2, min_lr=0.001, verbose=1)\n",
        "\n",
        "# Combine all callbacks in a list\n",
        "callbacks_list = [es, checkpoint, reduce_lr]"
      ],
      "metadata": {
        "colab": {
          "base_uri": "https://localhost:8080/"
        },
        "id": "T-GFEJfr_cFB",
        "outputId": "81476258-d418-42e5-cabb-fdee2f708b09"
      },
      "execution_count": null,
      "outputs": [
        {
          "output_type": "stream",
          "name": "stdout",
          "text": [
            "Model weights will be saved to: /content/drive/MyDrive/Thesis/weights-improvement_FHybrid_model_liking.hdf5\n"
          ]
        }
      ]
    },
    {
      "cell_type": "code",
      "source": [
        "FHybridmodel_liking = model_HB.fit(x_train, y_train,\n",
        "          batch_size=batch_size,\n",
        "          epochs=epochs,\n",
        "          verbose=1,\n",
        "          validation_data=(x_val, y_val),\n",
        "          callbacks= callbacks_list)"
      ],
      "metadata": {
        "colab": {
          "base_uri": "https://localhost:8080/"
        },
        "id": "hb-gHnVxAFnm",
        "outputId": "70640c17-a40d-46b1-dabf-3b362cfb4ccb"
      },
      "execution_count": null,
      "outputs": [
        {
          "output_type": "stream",
          "name": "stdout",
          "text": [
            "Epoch 1/10\n",
            "1952/1952 [==============================] - ETA: 0s - loss: 0.8012 - accuracy: 0.6166 - precision: 0.6795 - f1_score: 0.5703\n",
            "Epoch 1: val_accuracy improved from -inf to 0.65587, saving model to /content/drive/MyDrive/Thesis/weights-improvement_FHybrid_model_liking.hdf5\n",
            "1952/1952 [==============================] - 207s 94ms/step - loss: 0.8012 - accuracy: 0.6166 - precision: 0.6795 - f1_score: 0.5703 - val_loss: 0.7259 - val_accuracy: 0.6559 - val_precision: 0.7131 - val_f1_score: 0.6252 - lr: 0.0010\n",
            "Epoch 2/10\n",
            "1952/1952 [==============================] - ETA: 0s - loss: 0.6661 - accuracy: 0.6920 - precision: 0.7407 - f1_score: 0.6718\n",
            "Epoch 2: val_accuracy improved from 0.65587 to 0.72059, saving model to /content/drive/MyDrive/Thesis/weights-improvement_FHybrid_model_liking.hdf5\n",
            "1952/1952 [==============================] - 184s 94ms/step - loss: 0.6661 - accuracy: 0.6920 - precision: 0.7407 - f1_score: 0.6718 - val_loss: 0.6039 - val_accuracy: 0.7206 - val_precision: 0.7654 - val_f1_score: 0.7098 - lr: 0.0010\n",
            "Epoch 3/10\n",
            "1952/1952 [==============================] - ETA: 0s - loss: 0.5538 - accuracy: 0.7524 - precision: 0.7897 - f1_score: 0.7434\n",
            "Epoch 3: val_accuracy improved from 0.72059 to 0.77230, saving model to /content/drive/MyDrive/Thesis/weights-improvement_FHybrid_model_liking.hdf5\n",
            "1952/1952 [==============================] - 187s 96ms/step - loss: 0.5538 - accuracy: 0.7524 - precision: 0.7897 - f1_score: 0.7434 - val_loss: 0.5209 - val_accuracy: 0.7723 - val_precision: 0.7983 - val_f1_score: 0.7668 - lr: 0.0010\n",
            "Epoch 4/10\n",
            "1952/1952 [==============================] - ETA: 0s - loss: 0.4658 - accuracy: 0.7983 - precision: 0.8257 - f1_score: 0.7938\n",
            "Epoch 4: val_accuracy improved from 0.77230 to 0.79854, saving model to /content/drive/MyDrive/Thesis/weights-improvement_FHybrid_model_liking.hdf5\n",
            "1952/1952 [==============================] - 187s 96ms/step - loss: 0.4658 - accuracy: 0.7983 - precision: 0.8257 - f1_score: 0.7938 - val_loss: 0.4617 - val_accuracy: 0.7985 - val_precision: 0.8229 - val_f1_score: 0.7955 - lr: 0.0010\n",
            "Epoch 5/10\n",
            "1952/1952 [==============================] - ETA: 0s - loss: 0.3980 - accuracy: 0.8316 - precision: 0.8525 - f1_score: 0.8292\n",
            "Epoch 5: val_accuracy improved from 0.79854 to 0.82094, saving model to /content/drive/MyDrive/Thesis/weights-improvement_FHybrid_model_liking.hdf5\n",
            "1952/1952 [==============================] - 183s 94ms/step - loss: 0.3980 - accuracy: 0.8316 - precision: 0.8525 - f1_score: 0.8292 - val_loss: 0.4232 - val_accuracy: 0.8209 - val_precision: 0.8425 - val_f1_score: 0.8189 - lr: 0.0010\n",
            "Epoch 6/10\n",
            "1952/1952 [==============================] - ETA: 0s - loss: 0.3441 - accuracy: 0.8567 - precision: 0.8731 - f1_score: 0.8555\n",
            "Epoch 6: val_accuracy improved from 0.82094 to 0.83948, saving model to /content/drive/MyDrive/Thesis/weights-improvement_FHybrid_model_liking.hdf5\n",
            "1952/1952 [==============================] - 183s 94ms/step - loss: 0.3441 - accuracy: 0.8567 - precision: 0.8731 - f1_score: 0.8555 - val_loss: 0.3959 - val_accuracy: 0.8395 - val_precision: 0.8531 - val_f1_score: 0.8388 - lr: 0.0010\n",
            "Epoch 7/10\n",
            "1952/1952 [==============================] - ETA: 0s - loss: 0.3044 - accuracy: 0.8750 - precision: 0.8889 - f1_score: 0.8746\n",
            "Epoch 7: val_accuracy improved from 0.83948 to 0.84959, saving model to /content/drive/MyDrive/Thesis/weights-improvement_FHybrid_model_liking.hdf5\n",
            "1952/1952 [==============================] - 187s 96ms/step - loss: 0.3044 - accuracy: 0.8750 - precision: 0.8889 - f1_score: 0.8746 - val_loss: 0.3811 - val_accuracy: 0.8496 - val_precision: 0.8615 - val_f1_score: 0.8492 - lr: 0.0010\n",
            "Epoch 8/10\n",
            "1952/1952 [==============================] - ETA: 0s - loss: 0.2710 - accuracy: 0.8905 - precision: 0.9013 - f1_score: 0.8901\n",
            "Epoch 8: val_accuracy improved from 0.84959 to 0.86155, saving model to /content/drive/MyDrive/Thesis/weights-improvement_FHybrid_model_liking.hdf5\n",
            "1952/1952 [==============================] - 182s 93ms/step - loss: 0.2710 - accuracy: 0.8905 - precision: 0.9013 - f1_score: 0.8901 - val_loss: 0.3540 - val_accuracy: 0.8616 - val_precision: 0.8701 - val_f1_score: 0.8619 - lr: 0.0010\n",
            "Epoch 9/10\n",
            "1952/1952 [==============================] - ETA: 0s - loss: 0.2438 - accuracy: 0.9018 - precision: 0.9116 - f1_score: 0.9018\n",
            "Epoch 9: val_accuracy improved from 0.86155 to 0.87093, saving model to /content/drive/MyDrive/Thesis/weights-improvement_FHybrid_model_liking.hdf5\n",
            "1952/1952 [==============================] - 182s 93ms/step - loss: 0.2438 - accuracy: 0.9018 - precision: 0.9116 - f1_score: 0.9018 - val_loss: 0.3530 - val_accuracy: 0.8709 - val_precision: 0.8786 - val_f1_score: 0.8707 - lr: 0.0010\n",
            "Epoch 10/10\n",
            "1952/1952 [==============================] - ETA: 0s - loss: 0.2232 - accuracy: 0.9111 - precision: 0.9199 - f1_score: 0.9112\n",
            "Epoch 10: val_accuracy improved from 0.87093 to 0.87809, saving model to /content/drive/MyDrive/Thesis/weights-improvement_FHybrid_model_liking.hdf5\n",
            "1952/1952 [==============================] - 181s 93ms/step - loss: 0.2232 - accuracy: 0.9111 - precision: 0.9199 - f1_score: 0.9112 - val_loss: 0.3263 - val_accuracy: 0.8781 - val_precision: 0.8871 - val_f1_score: 0.8774 - lr: 0.0010\n"
          ]
        }
      ]
    },
    {
      "cell_type": "code",
      "source": [
        "score_Hybrid = model_HB.evaluate(x_test, y_test, verbose=1)\n",
        "print('Test loss:', score_Hybrid[0])\n",
        "print('Test accuracy:', score_Hybrid[1])\n",
        "print('Test precision:', score_Hybrid[2])\n",
        "print('Test f1_score:', score_Hybrid[3])"
      ],
      "metadata": {
        "id": "VtkQRA7MAMMd",
        "colab": {
          "base_uri": "https://localhost:8080/"
        },
        "outputId": "bbf6dfec-910d-4b97-d1e5-39355a77a1a7"
      },
      "execution_count": null,
      "outputs": [
        {
          "output_type": "stream",
          "name": "stdout",
          "text": [
            "1952/1952 [==============================] - 18s 8ms/step - loss: 0.3233 - accuracy: 0.8764 - precision: 0.8859 - f1_score: 0.8764\n",
            "Test loss: 0.3232729732990265\n",
            "Test accuracy: 0.8764408230781555\n",
            "Test precision: 0.8859301805496216\n",
            "Test f1_score: 0.8764259219169617\n"
          ]
        }
      ]
    },
    {
      "cell_type": "code",
      "source": [
        "# Plot training & validation accuracy values\n",
        "plt.plot(FHybridmodel_liking.history['accuracy'])\n",
        "plt.plot(FHybridmodel_liking.history['val_accuracy'])\n",
        "plt.title('Model accuracy')\n",
        "plt.ylabel('Accuracy')\n",
        "plt.xlabel('Epoch')\n",
        "plt.legend(['Train', 'Test'], loc='upper left')\n",
        "plt.show()\n",
        "\n",
        "# Plot training & validation loss values\n",
        "plt.plot(FHybridmodel_liking.history['loss'])\n",
        "plt.plot(FHybridmodel_liking.history['val_loss'])\n",
        "plt.title('Model loss')\n",
        "plt.ylabel('Loss')\n",
        "plt.xlabel('Epoch')\n",
        "plt.legend(['Train', 'Test'], loc='upper left')\n",
        "plt.show()"
      ],
      "metadata": {
        "id": "aw1run5lARWQ",
        "colab": {
          "base_uri": "https://localhost:8080/",
          "height": 927
        },
        "outputId": "ab9e8ebf-0de4-4c9b-d470-6648368f2ece"
      },
      "execution_count": null,
      "outputs": [
        {
          "output_type": "display_data",
          "data": {
            "text/plain": [
              "<Figure size 640x480 with 1 Axes>"
            ],
            "image/png": "[encoded data removed]"
          },
          "metadata": {}
        },
        {
          "output_type": "display_data",
          "data": {
            "text/plain": [
              "<Figure size 640x480 with 1 Axes>"
            ],
            "image/png": "[encoded data removed]"
          },
          "metadata": {}
        }
      ]
    },
    {
      "cell_type": "code",
      "source": [
        "from sklearn.metrics import confusion_matrix\n",
        "import seaborn as sns\n",
        "\n",
        "# Convert one-hot encoded predictions and labels to class indices\n",
        "y_pred_classes = np.argmax(model_HB.predict(x_val), axis=1)\n",
        "y_true_classes = np.argmax(y_val, axis=1)\n",
        "\n",
        "# Compute confusion matrix\n",
        "cm = confusion_matrix(y_true_classes, y_pred_classes)\n",
        "\n",
        "# Plot confusion matrix\n",
        "plt.figure(figsize=(10, 7))\n",
        "sns.heatmap(cm, annot=True, fmt=\"d\", cmap=\"Blues\")\n",
        "plt.title('Confusion Matrix')\n",
        "plt.ylabel('True label')\n",
        "plt.xlabel('Predicted label')\n",
        "plt.show()"
      ],
      "metadata": {
        "id": "0WPRKjF2AbiB",
        "colab": {
          "base_uri": "https://localhost:8080/",
          "height": 658
        },
        "outputId": "0917fc24-abcf-47b1-e791-75e2ad128b96"
      },
      "execution_count": null,
      "outputs": [
        {
          "output_type": "stream",
          "name": "stdout",
          "text": [
            "1952/1952 [==============================] - 12s 6ms/step\n"
          ]
        },
        {
          "output_type": "display_data",
          "data": {
            "text/plain": [
              "<Figure size 1000x700 with 2 Axes>"
            ],
            "image/png": "[encoded data removed]"
          },
          "metadata": {}
        }
      ]
    },
    {
      "cell_type": "code",
      "source": [
        "import numpy as np\n",
        "import matplotlib.pyplot as plt\n",
        "from sklearn.metrics import roc_curve, auc\n",
        "from sklearn.preprocessing import label_binarize\n",
        "from itertools import cycle\n",
        "from scipy import interp\n",
        "\n",
        "# Assuming `model` is your trained CNN model\n",
        "# `X_test` is your test data, `y_test` are your true labels (as integers 0, 1, 2 for negative, neutral, positive)\n",
        "\n",
        "# Binarize the labels for ROC calculation\n",
        "y_test_binarized = label_binarize(y_test, classes=[0, 1, 2])\n",
        "n_classes = y_test_binarized.shape[1]\n",
        "\n",
        "# Predict probabilities for each class\n",
        "y_score = model_HB.predict(x_test)  # Ensure this gives you the probability for each class\n",
        "\n",
        "# Compute ROC curve and ROC area for each class\n",
        "fpr = dict()\n",
        "tpr = dict()\n",
        "roc_auc = dict()\n",
        "for i in range(n_classes):\n",
        "    fpr[i], tpr[i], _ = roc_curve(y_test_binarized[:, i], y_score[:, i])\n",
        "    roc_auc[i] = auc(fpr[i], tpr[i])\n",
        "\n",
        "# Compute micro-average ROC curve and ROC area\n",
        "fpr[\"micro\"], tpr[\"micro\"], _ = roc_curve(y_test_binarized.ravel(), y_score.ravel())\n",
        "roc_auc[\"micro\"] = auc(fpr[\"micro\"], tpr[\"micro\"])\n",
        "\n",
        "# Plot ROC curves\n",
        "plt.figure(figsize=(10, 8))\n",
        "lw = 2\n",
        "colors = cycle(['aqua', 'darkorange', 'cornflowerblue'])\n",
        "for i, color in zip(range(n_classes), colors):\n",
        "    plt.plot(fpr[i], tpr[i], color=color, lw=lw,\n",
        "             label='ROC curve of class {0} (area = {1:0.2f})'\n",
        "             ''.format(i, roc_auc[i]))\n",
        "\n",
        "plt.plot([0, 1], [0, 1], 'k--', lw=lw)\n",
        "plt.xlim([0.0, 1.0])\n",
        "plt.ylim([0.0, 1.05])\n",
        "plt.xlabel('False Positive Rate')\n",
        "plt.ylabel('True Positive Rate')\n",
        "plt.title('Multi-class ROC')\n",
        "plt.legend(loc=\"lower right\")\n",
        "plt.show()\n"
      ],
      "metadata": {
        "colab": {
          "base_uri": "https://localhost:8080/",
          "height": 735
        },
        "id": "HalkE-_AfPoa",
        "outputId": "50881567-f8a0-4921-e49c-596511a6fb7b"
      },
      "execution_count": null,
      "outputs": [
        {
          "output_type": "stream",
          "name": "stdout",
          "text": [
            "1952/1952 [==============================] - 12s 6ms/step\n"
          ]
        },
        {
          "output_type": "display_data",
          "data": {
            "text/plain": [
              "<Figure size 1000x800 with 1 Axes>"
            ],
            "image/png": "[encoded data removed]"
          },
          "metadata": {}
        }
      ]
    },
    {
      "cell_type": "code",
      "source": [
        "base_path_model = \"/content/drive/MyDrive/Thesis/\"\n",
        "accuracy = \"_87\"\n",
        "\n",
        "path_model_HB = base_path_model + model_name + accuracy + \".h5\"\n",
        "model_HB.save(path_model_HB)\n",
        "print(path_model_HB)"
      ],
      "metadata": {
        "id": "0Xq2KbUTAeak",
        "colab": {
          "base_uri": "https://localhost:8080/"
        },
        "outputId": "bde65e49-31fa-4612-cb34-19856ae496a5"
      },
      "execution_count": null,
      "outputs": [
        {
          "output_type": "stream",
          "name": "stdout",
          "text": [
            "/content/drive/MyDrive/Thesis/FHybrid_model_liking_87.h5\n"
          ]
        }
      ]
    }
  ]
}