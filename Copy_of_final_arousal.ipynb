{
  "nbformat": 4,
  "nbformat_minor": 0,
  "metadata": {
    "colab": {
      "provenance": [],
      "gpuType": "T4",
      "include_colab_link": true
    },
    "kernelspec": {
      "name": "python3",
      "display_name": "Python 3"
    },
    "language_info": {
      "name": "python"
    },
    "accelerator": "GPU"
  },
  "cells": [
    {
      "cell_type": "markdown",
      "metadata": {
        "id": "view-in-github",
        "colab_type": "text"
      },
      "source": [
        "<a href=\"https://colab.research.google.com/github/FariaParvinMegha/final_work/blob/main/Copy_of_final_arousal.ipynb\" target=\"_parent\"><img src=\"https://colab.research.google.com/assets/colab-badge.svg\" alt=\"Open In Colab\"/></a>"
      ]
    },
    {
      "cell_type": "code",
      "execution_count": null,
      "metadata": {
        "colab": {
          "base_uri": "https://localhost:8080/"
        },
        "id": "CiLQSHLpBgNN",
        "outputId": "d5a46064-25d1-4b4f-ca40-a6ff13c5bb2f"
      },
      "outputs": [
        {
          "output_type": "stream",
          "name": "stdout",
          "text": [
            "Drive already mounted at /content/drive; to attempt to forcibly remount, call drive.mount(\"/content/drive\", force_remount=True).\n"
          ]
        }
      ],
      "source": [
        "from google.colab import drive\n",
        "drive.mount('/content/drive')"
      ]
    },
    {
      "cell_type": "code",
      "source": [
        "!pip install git+https://github.com/forrestbao/pyeeg.git\n",
        "\n",
        "!pip install keras-self-attention"
      ],
      "metadata": {
        "colab": {
          "base_uri": "https://localhost:8080/"
        },
        "id": "0KtyC8AjCBs7",
        "outputId": "2822b82e-e2df-4c5a-8ad7-0ba7845f6ee9"
      },
      "execution_count": null,
      "outputs": [
        {
          "output_type": "stream",
          "name": "stdout",
          "text": [
            "Collecting git+https://github.com/forrestbao/pyeeg.git\n",
            "  Cloning https://github.com/forrestbao/pyeeg.git to /tmp/pip-req-build-mfa3q0pf\n",
            "  Running command git clone --filter=blob:none --quiet https://github.com/forrestbao/pyeeg.git /tmp/pip-req-build-mfa3q0pf\n",
            "  Resolved https://github.com/forrestbao/pyeeg.git to commit a6c18bb093e4748f9d9c208535a6ae024a0802b8\n",
            "  Preparing metadata (setup.py) ... \u001b[?25l\u001b[?25hdone\n",
            "Requirement already satisfied: numpy>=1.9.2 in /usr/local/lib/python3.10/dist-packages (from pyeeg==0.4.4) (1.25.2)\n",
            "Requirement already satisfied: keras-self-attention in /usr/local/lib/python3.10/dist-packages (0.51.0)\n",
            "Requirement already satisfied: numpy in /usr/local/lib/python3.10/dist-packages (from keras-self-attention) (1.25.2)\n"
          ]
        }
      ]
    },
    {
      "cell_type": "code",
      "source": [
        "import numpy as np\n",
        "import pyeeg as pe\n",
        "import pickle as pickle\n",
        "import pandas as pd\n",
        "import math\n",
        "import matplotlib.pyplot as plt\n",
        "from sklearn.preprocessing import normalize\n",
        "from sklearn import svm\n",
        "import tensorflow as tf\n",
        "import os\n",
        "import time\n",
        "import keras\n",
        "import keras.backend as K\n",
        "\n",
        "import tensorflow as tf\n",
        "from tensorflow import keras\n",
        "from keras.metrics import Precision, Recall\n",
        "from keras.models import Sequential\n",
        "from keras.utils import to_categorical\n",
        "from keras.layers import Dense, Dropout, Flatten, MaxPooling2D, Conv1D\n",
        "from keras.models import Model\n",
        "from keras.utils import plot_model\n",
        "\n",
        "import timeit\n",
        "from keras.layers import MaxPooling1D, ZeroPadding1D\n",
        "from keras.optimizers import SGD\n",
        "import matplotlib.pyplot as plt\n",
        "import warnings\n",
        "warnings.filterwarnings('ignore')\n",
        "\n",
        "from keras.layers import Convolution1D, ZeroPadding1D, MaxPooling1D, BatchNormalization, Activation, Dropout, Flatten, Dense\n",
        "from keras.regularizers import l2\n",
        "from keras.callbacks import ModelCheckpoint, EarlyStopping, ReduceLROnPlateau\n",
        "from keras.layers import Input, Conv2D, MaxPooling2D, Reshape, Bidirectional, LSTM, Dense, Lambda, Activation, BatchNormalization, Dropout\n",
        "from keras_self_attention import SeqSelfAttention\n",
        "from keras.layers import (Input, Embedding, Conv1D, Activation, GlobalMaxPooling1D, BatchNormalization,\n",
        "                          Concatenate, LSTM, Flatten, Dropout, Dense)"
      ],
      "metadata": {
        "id": "sZnepYvXCD3j"
      },
      "execution_count": null,
      "outputs": []
    },
    {
      "cell_type": "code",
      "source": [
        "np_load_old = np.load\n",
        "np.load = lambda *a,**k: np_load_old(*a, allow_pickle=True, **k)"
      ],
      "metadata": {
        "id": "pguW7FWOGLsW"
      },
      "execution_count": null,
      "outputs": []
    },
    {
      "cell_type": "code",
      "source": [
        "np.load = np_load_old"
      ],
      "metadata": {
        "id": "AylMyCRhJXMr"
      },
      "execution_count": null,
      "outputs": []
    },
    {
      "cell_type": "markdown",
      "source": [
        "FOR AROUSAL"
      ],
      "metadata": {
        "id": "BkpUWiKWawUz"
      }
    },
    {
      "cell_type": "code",
      "source": [
        "with open('/content/drive/MyDrive/data_training/data_training.npy', 'rb') as fileTrain:\n",
        "    X  = np.load(fileTrain)\n",
        "\n",
        "with open('/content/drive/MyDrive/label_training/label_training.npy', 'rb') as fileTrainL:\n",
        "    Y  = np.load(fileTrainL)\n",
        "\n",
        "\n",
        "X = normalize(X)\n",
        "Z = np.ravel(Y[:, [0]])\n",
        "\n",
        "Arousal_Train = np.ravel(Y[:, [0]])\n",
        "Valence_Train = np.ravel(Y[:, [1]])\n",
        "Dominance_Train = np.ravel(Y[:, [2]])\n",
        "Like_Train = np.ravel(Y[:, [3]])\n",
        "\n",
        "for i in range(len(Z)):\n",
        "  if Z[i] == 9:\n",
        "    Z[i] = 8.99"
      ],
      "metadata": {
        "id": "P69CnsaoJxq6"
      },
      "execution_count": null,
      "outputs": []
    },
    {
      "cell_type": "code",
      "source": [
        "A=np.copy(Z)\n",
        "\n",
        "np.unique(Z)"
      ],
      "metadata": {
        "colab": {
          "base_uri": "https://localhost:8080/"
        },
        "id": "rECPqvh7srBY",
        "outputId": "a2133867-e4e4-4886-cb84-6087cc5c7928"
      },
      "execution_count": null,
      "outputs": [
        {
          "output_type": "execute_result",
          "data": {
            "text/plain": [
              "array([1.  , 1.01, 1.03, 1.04, 1.08, 1.1 , 1.15, 1.21, 1.22, 1.23, 1.35,\n",
              "       1.36, 1.38, 1.4 , 1.45, 1.47, 1.62, 1.67, 1.74, 1.77, 1.79, 1.82,\n",
              "       1.83, 1.85, 1.86, 1.88, 1.9 , 1.91, 1.92, 1.94, 1.95, 1.96, 1.97,\n",
              "       1.99, 2.  , 2.01, 2.03, 2.04, 2.05, 2.06, 2.08, 2.09, 2.12, 2.13,\n",
              "       2.14, 2.17, 2.19, 2.26, 2.28, 2.31, 2.32, 2.33, 2.36, 2.41, 2.44,\n",
              "       2.46, 2.47, 2.5 , 2.51, 2.53, 2.54, 2.59, 2.64, 2.67, 2.68, 2.71,\n",
              "       2.72, 2.78, 2.79, 2.81, 2.82, 2.85, 2.86, 2.87, 2.88, 2.9 , 2.92,\n",
              "       2.94, 2.95, 2.96, 2.97, 2.99, 3.  , 3.01, 3.03, 3.04, 3.05, 3.06,\n",
              "       3.08, 3.09, 3.1 , 3.12, 3.13, 3.15, 3.17, 3.18, 3.19, 3.21, 3.22,\n",
              "       3.23, 3.24, 3.26, 3.27, 3.28, 3.31, 3.33, 3.36, 3.37, 3.38, 3.4 ,\n",
              "       3.45, 3.46, 3.47, 3.49, 3.5 , 3.51, 3.55, 3.59, 3.6 , 3.62, 3.64,\n",
              "       3.65, 3.71, 3.72, 3.73, 3.74, 3.77, 3.81, 3.82, 3.83, 3.85, 3.86,\n",
              "       3.87, 3.88, 3.9 , 3.91, 3.92, 3.94, 3.95, 3.96, 3.97, 3.99, 4.  ,\n",
              "       4.01, 4.03, 4.04, 4.05, 4.06, 4.08, 4.09, 4.1 , 4.12, 4.13, 4.15,\n",
              "       4.17, 4.18, 4.21, 4.23, 4.24, 4.26, 4.27, 4.29, 4.31, 4.33, 4.35,\n",
              "       4.38, 4.41, 4.42, 4.44, 4.45, 4.46, 4.47, 4.51, 4.53, 4.54, 4.55,\n",
              "       4.56, 4.58, 4.62, 4.63, 4.64, 4.67, 4.68, 4.69, 4.72, 4.74, 4.83,\n",
              "       4.85, 4.86, 4.87, 4.88, 4.9 , 4.91, 4.92, 4.94, 4.95, 4.96, 4.97,\n",
              "       4.99, 5.  , 5.01, 5.03, 5.04, 5.05, 5.06, 5.08, 5.09, 5.1 , 5.12,\n",
              "       5.13, 5.14, 5.15, 5.17, 5.18, 5.24, 5.27, 5.31, 5.32, 5.33, 5.37,\n",
              "       5.38, 5.44, 5.45, 5.47, 5.49, 5.51, 5.53, 5.54, 5.55, 5.58, 5.59,\n",
              "       5.64, 5.67, 5.68, 5.69, 5.71, 5.76, 5.77, 5.78, 5.81, 5.83, 5.86,\n",
              "       5.92, 5.94, 5.95, 5.96, 5.97, 5.99, 6.  , 6.01, 6.03, 6.04, 6.05,\n",
              "       6.06, 6.08, 6.09, 6.1 , 6.13, 6.14, 6.15, 6.18, 6.19, 6.21, 6.22,\n",
              "       6.24, 6.26, 6.27, 6.28, 6.32, 6.33, 6.35, 6.36, 6.37, 6.4 , 6.42,\n",
              "       6.45, 6.46, 6.51, 6.53, 6.55, 6.56, 6.58, 6.62, 6.64, 6.65, 6.67,\n",
              "       6.68, 6.72, 6.74, 6.76, 6.77, 6.79, 6.81, 6.82, 6.83, 6.85, 6.86,\n",
              "       6.87, 6.88, 6.9 , 6.91, 6.92, 6.94, 6.96, 6.97, 6.99, 7.  , 7.01,\n",
              "       7.03, 7.04, 7.05, 7.06, 7.08, 7.09, 7.1 , 7.12, 7.13, 7.14, 7.15,\n",
              "       7.17, 7.18, 7.19, 7.21, 7.23, 7.24, 7.26, 7.27, 7.28, 7.29, 7.31,\n",
              "       7.32, 7.33, 7.35, 7.36, 7.37, 7.38, 7.4 , 7.41, 7.44, 7.5 , 7.53,\n",
              "       7.55, 7.56, 7.59, 7.6 , 7.62, 7.63, 7.64, 7.65, 7.69, 7.71, 7.73,\n",
              "       7.74, 7.77, 7.78, 7.79, 7.82, 7.86, 7.87, 7.9 , 7.91, 7.92, 7.94,\n",
              "       7.95, 7.96, 7.97, 7.99, 8.  , 8.01, 8.03, 8.04, 8.05, 8.06, 8.08,\n",
              "       8.09, 8.1 , 8.12, 8.13, 8.14, 8.15, 8.17, 8.18, 8.19, 8.21, 8.22,\n",
              "       8.24, 8.26, 8.27, 8.32, 8.33, 8.41, 8.42, 8.47, 8.51, 8.56, 8.58,\n",
              "       8.78, 8.81, 8.82, 8.86, 8.9 , 8.94, 8.95, 8.96, 8.97, 8.99])"
            ]
          },
          "metadata": {},
          "execution_count": 50
        }
      ]
    },
    {
      "cell_type": "code",
      "source": [
        "# AROUSAL classes\n",
        "negative = 0\n",
        "neutral = 0\n",
        "positive = 0\n",
        "for i in range(len(A)):\n",
        "  if A[i] >= 1 and A[i]<=2.99:\n",
        "    A [i] = 1\n",
        "    negative = negative + 1\n",
        "  if A[i] >= 3 and A[i]<=5.99:\n",
        "    A [i] = 2\n",
        "    neutral = neutral + 1\n",
        "  if A[i] >= 6 and A[i]<=8.99:\n",
        "    A [i] = 3\n",
        "    positive = positive + 1\n",
        "\n",
        "print(negative,neutral, positive)"
      ],
      "metadata": {
        "id": "Mtz6j64cK-Gn",
        "colab": {
          "base_uri": "https://localhost:8080/"
        },
        "outputId": "45bed65a-a0bd-4821-d6d5-8ef393abdf38"
      },
      "execution_count": null,
      "outputs": [
        {
          "output_type": "stream",
          "name": "stdout",
          "text": [
            "84328 202262 213122\n"
          ]
        }
      ]
    },
    {
      "cell_type": "code",
      "source": [
        "x_train = np.array(X[:])"
      ],
      "metadata": {
        "id": "G-Do5luMLGoY"
      },
      "execution_count": null,
      "outputs": []
    },
    {
      "cell_type": "code",
      "source": [
        "from keras.utils import to_categorical\n",
        "y_train = to_categorical(A)\n",
        "y_train = y_train[:,1:]\n",
        "y_train"
      ],
      "metadata": {
        "colab": {
          "base_uri": "https://localhost:8080/"
        },
        "id": "Hm6HdwkQzwAT",
        "outputId": "8bd9c78e-ff63-4248-edc5-390beb000064"
      },
      "execution_count": null,
      "outputs": [
        {
          "output_type": "execute_result",
          "data": {
            "text/plain": [
              "array([[0., 0., 1.],\n",
              "       [0., 0., 1.],\n",
              "       [0., 0., 1.],\n",
              "       ...,\n",
              "       [0., 0., 1.],\n",
              "       [0., 0., 1.],\n",
              "       [0., 0., 1.]], dtype=float32)"
            ]
          },
          "metadata": {},
          "execution_count": 53
        }
      ]
    },
    {
      "cell_type": "code",
      "source": [
        "with open('/content/drive/MyDrive/data_validation/data_validation.npy', 'rb') as fileTrain:\n",
        "    P  = np.load(fileTrain)\n",
        "\n",
        "with open('/content/drive/MyDrive/label_validation/label_validation.npy', 'rb') as fileTrainL:\n",
        "    Q  = np.load(fileTrainL)\n",
        "\n",
        "P = normalize(P)\n",
        "R = np.ravel(Q[:, [0]])\n",
        "\n",
        "Arousal_val = np.ravel(Q[:, [0]])\n",
        "Valence_val = np.ravel(Q[:, [1]])\n",
        "Domain_val = np.ravel(Q[:, [2]])\n",
        "Like_val = np.ravel(Q[:, [3]])\n",
        "\n",
        "for i in range(len(R)):\n",
        "  if R[i] == 9:\n",
        "    R[i] = 8.99"
      ],
      "metadata": {
        "id": "iYJExV-Bu39s"
      },
      "execution_count": null,
      "outputs": []
    },
    {
      "cell_type": "code",
      "source": [
        "B=np.copy(R)\n",
        "\n",
        "np.unique(R)"
      ],
      "metadata": {
        "colab": {
          "base_uri": "https://localhost:8080/"
        },
        "id": "64RZ9GqWvG8V",
        "outputId": "f73c78c7-f08b-434c-8841-06cd351ee5d7"
      },
      "execution_count": null,
      "outputs": [
        {
          "output_type": "execute_result",
          "data": {
            "text/plain": [
              "array([1.  , 1.01, 1.03, 1.04, 1.08, 1.1 , 1.15, 1.21, 1.22, 1.23, 1.35,\n",
              "       1.36, 1.38, 1.4 , 1.45, 1.47, 1.62, 1.67, 1.74, 1.77, 1.79, 1.82,\n",
              "       1.83, 1.85, 1.86, 1.88, 1.9 , 1.91, 1.92, 1.94, 1.95, 1.96, 1.97,\n",
              "       1.99, 2.  , 2.01, 2.03, 2.04, 2.05, 2.06, 2.08, 2.09, 2.12, 2.13,\n",
              "       2.14, 2.17, 2.19, 2.26, 2.28, 2.31, 2.32, 2.33, 2.36, 2.41, 2.44,\n",
              "       2.46, 2.47, 2.5 , 2.51, 2.53, 2.54, 2.59, 2.64, 2.67, 2.68, 2.71,\n",
              "       2.72, 2.78, 2.79, 2.81, 2.82, 2.85, 2.86, 2.87, 2.88, 2.9 , 2.92,\n",
              "       2.94, 2.95, 2.96, 2.97, 2.99, 3.  , 3.01, 3.03, 3.04, 3.05, 3.06,\n",
              "       3.08, 3.09, 3.1 , 3.12, 3.13, 3.15, 3.17, 3.18, 3.19, 3.21, 3.22,\n",
              "       3.23, 3.24, 3.26, 3.27, 3.28, 3.31, 3.33, 3.36, 3.37, 3.38, 3.4 ,\n",
              "       3.45, 3.46, 3.47, 3.49, 3.5 , 3.51, 3.55, 3.59, 3.6 , 3.62, 3.64,\n",
              "       3.65, 3.71, 3.72, 3.73, 3.74, 3.77, 3.81, 3.82, 3.83, 3.85, 3.86,\n",
              "       3.87, 3.88, 3.9 , 3.91, 3.92, 3.94, 3.95, 3.96, 3.97, 3.99, 4.  ,\n",
              "       4.01, 4.03, 4.04, 4.05, 4.06, 4.08, 4.09, 4.1 , 4.12, 4.13, 4.15,\n",
              "       4.17, 4.18, 4.21, 4.23, 4.24, 4.26, 4.27, 4.29, 4.31, 4.33, 4.35,\n",
              "       4.38, 4.41, 4.42, 4.44, 4.45, 4.46, 4.47, 4.51, 4.53, 4.54, 4.55,\n",
              "       4.56, 4.58, 4.62, 4.63, 4.64, 4.67, 4.68, 4.69, 4.72, 4.74, 4.83,\n",
              "       4.85, 4.86, 4.87, 4.88, 4.9 , 4.91, 4.92, 4.94, 4.95, 4.96, 4.97,\n",
              "       4.99, 5.  , 5.01, 5.03, 5.04, 5.05, 5.06, 5.08, 5.09, 5.1 , 5.12,\n",
              "       5.13, 5.14, 5.15, 5.17, 5.18, 5.24, 5.27, 5.31, 5.32, 5.33, 5.37,\n",
              "       5.38, 5.44, 5.45, 5.47, 5.49, 5.51, 5.53, 5.54, 5.55, 5.58, 5.59,\n",
              "       5.64, 5.67, 5.68, 5.69, 5.71, 5.76, 5.77, 5.78, 5.81, 5.83, 5.86,\n",
              "       5.92, 5.94, 5.95, 5.96, 5.97, 5.99, 6.  , 6.01, 6.03, 6.04, 6.05,\n",
              "       6.06, 6.08, 6.09, 6.1 , 6.13, 6.14, 6.15, 6.18, 6.19, 6.21, 6.22,\n",
              "       6.24, 6.26, 6.27, 6.28, 6.32, 6.33, 6.35, 6.36, 6.37, 6.4 , 6.42,\n",
              "       6.45, 6.46, 6.51, 6.53, 6.55, 6.56, 6.58, 6.62, 6.64, 6.65, 6.67,\n",
              "       6.68, 6.72, 6.74, 6.76, 6.77, 6.79, 6.81, 6.82, 6.83, 6.85, 6.86,\n",
              "       6.87, 6.88, 6.9 , 6.91, 6.92, 6.94, 6.96, 6.97, 6.99, 7.  , 7.01,\n",
              "       7.03, 7.04, 7.05, 7.06, 7.08, 7.09, 7.1 , 7.12, 7.13, 7.14, 7.15,\n",
              "       7.17, 7.18, 7.19, 7.21, 7.23, 7.24, 7.26, 7.27, 7.28, 7.29, 7.31,\n",
              "       7.32, 7.33, 7.35, 7.36, 7.37, 7.38, 7.4 , 7.41, 7.44, 7.5 , 7.53,\n",
              "       7.55, 7.56, 7.59, 7.6 , 7.62, 7.63, 7.64, 7.65, 7.69, 7.71, 7.73,\n",
              "       7.74, 7.77, 7.78, 7.79, 7.82, 7.86, 7.87, 7.9 , 7.91, 7.92, 7.94,\n",
              "       7.95, 7.96, 7.97, 7.99, 8.  , 8.01, 8.03, 8.04, 8.05, 8.06, 8.08,\n",
              "       8.09, 8.1 , 8.12, 8.13, 8.14, 8.15, 8.17, 8.18, 8.19, 8.21, 8.22,\n",
              "       8.24, 8.26, 8.27, 8.32, 8.33, 8.41, 8.42, 8.47, 8.51, 8.56, 8.58,\n",
              "       8.78, 8.81, 8.82, 8.86, 8.9 , 8.94, 8.95, 8.96, 8.97, 8.99])"
            ]
          },
          "metadata": {},
          "execution_count": 55
        }
      ]
    },
    {
      "cell_type": "code",
      "source": [
        "# AROUSAL classes\n",
        "negative_val = 0\n",
        "neutral_val = 0\n",
        "positive_val = 0\n",
        "for i in range(len(B)):\n",
        "  if B[i] >= 1 and B[i]<=2.99:\n",
        "    B [i] = 1\n",
        "    negative_val = negative_val + 1\n",
        "  if B[i] >= 3 and B[i]<=5.99:\n",
        "    B [i] = 2\n",
        "    neutral_val = neutral_val + 1\n",
        "  if B[i] >= 6 and B[i]<=8.99:\n",
        "    B [i] = 3\n",
        "    positive_val = positive_val + 1\n",
        "\n",
        "print(negative_val,neutral_val, positive_val)"
      ],
      "metadata": {
        "colab": {
          "base_uri": "https://localhost:8080/"
        },
        "id": "MJVjYewgug_d",
        "outputId": "95cc0903-f163-4536-97ea-9a57d913c367"
      },
      "execution_count": null,
      "outputs": [
        {
          "output_type": "stream",
          "name": "stdout",
          "text": [
            "10540 25261 26663\n"
          ]
        }
      ]
    },
    {
      "cell_type": "code",
      "source": [
        "x_val = np.array(P[:])"
      ],
      "metadata": {
        "id": "oD-WNhmwvlyK"
      },
      "execution_count": null,
      "outputs": []
    },
    {
      "cell_type": "code",
      "source": [
        "from keras.utils import to_categorical\n",
        "y_val = to_categorical(B)\n",
        "y_val = y_val[:,1:]\n",
        "y_val"
      ],
      "metadata": {
        "colab": {
          "base_uri": "https://localhost:8080/"
        },
        "id": "aFTKsTlb0MhC",
        "outputId": "37be70f9-6969-4f66-d1af-2868330ad484"
      },
      "execution_count": null,
      "outputs": [
        {
          "output_type": "execute_result",
          "data": {
            "text/plain": [
              "array([[0., 0., 1.],\n",
              "       [0., 0., 1.],\n",
              "       [0., 0., 1.],\n",
              "       ...,\n",
              "       [0., 0., 1.],\n",
              "       [0., 0., 1.],\n",
              "       [0., 0., 1.]], dtype=float32)"
            ]
          },
          "metadata": {},
          "execution_count": 58
        }
      ]
    },
    {
      "cell_type": "code",
      "source": [
        "with open('/content/drive/MyDrive/data_testing/data_testing.npy', 'rb') as fileTrain:\n",
        "    M  = np.load(fileTrain)\n",
        "\n",
        "with open('/content/drive/MyDrive/label_testing/label_testing.npy', 'rb') as fileTrainL:\n",
        "    N  = np.load(fileTrainL)\n",
        "\n",
        "M = normalize(M)\n",
        "L = np.ravel(N[:, [0]])\n",
        "\n",
        "Arousal_Test = np.ravel(N[:, [0]])\n",
        "Valence_Test = np.ravel(N[:, [1]])\n",
        "Dominance_Test = np.ravel(N[:, [2]])\n",
        "Like_Test = np.ravel(N[:, [3]])\n",
        "\n",
        "for i in range(len(L)):\n",
        "  if L[i] == 9:\n",
        "    L[i] = 8.99"
      ],
      "metadata": {
        "id": "mATFeu0MLm1p"
      },
      "execution_count": null,
      "outputs": []
    },
    {
      "cell_type": "code",
      "source": [
        "C=np.copy(L)\n",
        "\n",
        "np.unique(L)"
      ],
      "metadata": {
        "colab": {
          "base_uri": "https://localhost:8080/"
        },
        "id": "qCzNtVdovcdh",
        "outputId": "9348c4f0-d7ff-49f1-c5e4-084b250e98be"
      },
      "execution_count": null,
      "outputs": [
        {
          "output_type": "execute_result",
          "data": {
            "text/plain": [
              "array([1.  , 1.01, 1.03, 1.04, 1.08, 1.1 , 1.15, 1.21, 1.22, 1.23, 1.35,\n",
              "       1.36, 1.38, 1.4 , 1.45, 1.47, 1.62, 1.67, 1.74, 1.77, 1.79, 1.82,\n",
              "       1.83, 1.85, 1.86, 1.88, 1.9 , 1.91, 1.92, 1.94, 1.95, 1.96, 1.97,\n",
              "       1.99, 2.  , 2.01, 2.03, 2.04, 2.05, 2.06, 2.08, 2.09, 2.12, 2.13,\n",
              "       2.14, 2.17, 2.19, 2.26, 2.28, 2.31, 2.32, 2.33, 2.36, 2.41, 2.44,\n",
              "       2.46, 2.47, 2.5 , 2.51, 2.53, 2.54, 2.59, 2.64, 2.67, 2.68, 2.71,\n",
              "       2.72, 2.78, 2.79, 2.81, 2.82, 2.85, 2.86, 2.87, 2.88, 2.9 , 2.92,\n",
              "       2.94, 2.95, 2.96, 2.97, 2.99, 3.  , 3.01, 3.03, 3.04, 3.05, 3.06,\n",
              "       3.08, 3.09, 3.1 , 3.12, 3.13, 3.15, 3.17, 3.18, 3.19, 3.21, 3.22,\n",
              "       3.23, 3.24, 3.26, 3.27, 3.28, 3.31, 3.33, 3.36, 3.37, 3.38, 3.4 ,\n",
              "       3.45, 3.46, 3.47, 3.49, 3.5 , 3.51, 3.55, 3.59, 3.6 , 3.62, 3.64,\n",
              "       3.65, 3.71, 3.72, 3.73, 3.74, 3.77, 3.81, 3.82, 3.83, 3.85, 3.86,\n",
              "       3.87, 3.88, 3.9 , 3.91, 3.92, 3.94, 3.95, 3.96, 3.97, 3.99, 4.  ,\n",
              "       4.01, 4.03, 4.04, 4.05, 4.06, 4.08, 4.09, 4.1 , 4.12, 4.13, 4.15,\n",
              "       4.17, 4.18, 4.21, 4.23, 4.24, 4.26, 4.27, 4.29, 4.31, 4.33, 4.35,\n",
              "       4.38, 4.41, 4.42, 4.44, 4.45, 4.46, 4.47, 4.51, 4.53, 4.54, 4.55,\n",
              "       4.56, 4.58, 4.62, 4.63, 4.64, 4.67, 4.68, 4.69, 4.72, 4.74, 4.83,\n",
              "       4.85, 4.86, 4.87, 4.88, 4.9 , 4.91, 4.92, 4.94, 4.95, 4.96, 4.97,\n",
              "       4.99, 5.  , 5.01, 5.03, 5.04, 5.05, 5.06, 5.08, 5.09, 5.1 , 5.12,\n",
              "       5.13, 5.14, 5.15, 5.17, 5.18, 5.24, 5.27, 5.31, 5.32, 5.33, 5.37,\n",
              "       5.38, 5.44, 5.45, 5.47, 5.49, 5.51, 5.53, 5.54, 5.55, 5.58, 5.59,\n",
              "       5.64, 5.67, 5.68, 5.69, 5.71, 5.76, 5.77, 5.78, 5.81, 5.83, 5.86,\n",
              "       5.92, 5.94, 5.95, 5.96, 5.97, 5.99, 6.  , 6.01, 6.03, 6.04, 6.05,\n",
              "       6.06, 6.08, 6.09, 6.1 , 6.13, 6.14, 6.15, 6.18, 6.19, 6.21, 6.22,\n",
              "       6.24, 6.26, 6.27, 6.28, 6.32, 6.33, 6.35, 6.36, 6.37, 6.4 , 6.42,\n",
              "       6.45, 6.46, 6.51, 6.53, 6.55, 6.56, 6.58, 6.62, 6.64, 6.65, 6.67,\n",
              "       6.68, 6.72, 6.74, 6.76, 6.77, 6.79, 6.81, 6.82, 6.83, 6.85, 6.86,\n",
              "       6.87, 6.88, 6.9 , 6.91, 6.92, 6.94, 6.96, 6.97, 6.99, 7.  , 7.01,\n",
              "       7.03, 7.04, 7.05, 7.06, 7.08, 7.09, 7.1 , 7.12, 7.13, 7.14, 7.15,\n",
              "       7.17, 7.18, 7.19, 7.21, 7.23, 7.24, 7.26, 7.27, 7.28, 7.29, 7.31,\n",
              "       7.32, 7.33, 7.35, 7.36, 7.37, 7.38, 7.4 , 7.41, 7.44, 7.5 , 7.53,\n",
              "       7.55, 7.56, 7.59, 7.6 , 7.62, 7.63, 7.64, 7.65, 7.69, 7.71, 7.73,\n",
              "       7.74, 7.77, 7.78, 7.79, 7.82, 7.86, 7.87, 7.9 , 7.91, 7.92, 7.94,\n",
              "       7.95, 7.96, 7.97, 7.99, 8.  , 8.01, 8.03, 8.04, 8.05, 8.06, 8.08,\n",
              "       8.09, 8.1 , 8.12, 8.13, 8.14, 8.15, 8.17, 8.18, 8.19, 8.21, 8.22,\n",
              "       8.24, 8.26, 8.27, 8.32, 8.33, 8.41, 8.42, 8.47, 8.51, 8.56, 8.58,\n",
              "       8.78, 8.81, 8.82, 8.86, 8.9 , 8.94, 8.95, 8.96, 8.97, 8.99])"
            ]
          },
          "metadata": {},
          "execution_count": 60
        }
      ]
    },
    {
      "cell_type": "code",
      "source": [
        "# AROUSAL classes\n",
        "negative_test = 0\n",
        "neutral_test = 0\n",
        "positive_test = 0\n",
        "for i in range(len(C)):\n",
        "  if C[i] >= 1 and C[i]<=2.99:\n",
        "    C [i] = 1\n",
        "    negative_test = negative_test + 1\n",
        "  if C[i] >= 3 and C[i]<=5.99:\n",
        "    C [i] = 2\n",
        "    neutral_test = neutral_test + 1\n",
        "  if C[i] >= 6 and C[i]<=8.99:\n",
        "    C [i] = 3\n",
        "    positive_test = positive_test + 1\n",
        "\n",
        "print(negative_test,neutral_test, positive_test)"
      ],
      "metadata": {
        "colab": {
          "base_uri": "https://localhost:8080/"
        },
        "id": "i6Kuk3UKvxHv",
        "outputId": "62e0db48-93ca-44ed-8ed8-7ce6204264ee"
      },
      "execution_count": null,
      "outputs": [
        {
          "output_type": "stream",
          "name": "stdout",
          "text": [
            "10540 25261 26663\n"
          ]
        }
      ]
    },
    {
      "cell_type": "code",
      "source": [
        "x_test = np.array(M[:])"
      ],
      "metadata": {
        "id": "nfpZeIR-vcut"
      },
      "execution_count": null,
      "outputs": []
    },
    {
      "cell_type": "code",
      "source": [
        "from keras.utils import to_categorical\n",
        "y_test = to_categorical(C)\n",
        "y_test = y_test[:,1:]\n",
        "y_test"
      ],
      "metadata": {
        "colab": {
          "base_uri": "https://localhost:8080/"
        },
        "id": "X7IJ9lpZ0Ux7",
        "outputId": "ec28be4e-06db-4a81-f46c-64b9ef2f0a91"
      },
      "execution_count": null,
      "outputs": [
        {
          "output_type": "execute_result",
          "data": {
            "text/plain": [
              "array([[0., 0., 1.],\n",
              "       [0., 0., 1.],\n",
              "       [0., 0., 1.],\n",
              "       ...,\n",
              "       [0., 0., 1.],\n",
              "       [0., 0., 1.],\n",
              "       [0., 0., 1.]], dtype=float32)"
            ]
          },
          "metadata": {},
          "execution_count": 63
        }
      ]
    },
    {
      "cell_type": "code",
      "source": [
        "from sklearn.preprocessing import StandardScaler\n",
        "scaler = StandardScaler()\n",
        "x_train = scaler.fit_transform(x_train)\n",
        "x_val = scaler.fit_transform(x_val)\n",
        "x_test = scaler.fit_transform(x_test)"
      ],
      "metadata": {
        "id": "smzCG-XXL87l"
      },
      "execution_count": null,
      "outputs": []
    },
    {
      "cell_type": "code",
      "source": [
        "x_train = x_train.reshape(x_train.shape[0],x_train.shape[1], 1)\n",
        "x_val = x_val.reshape(x_val.shape[0],x_val.shape[1], 1)\n",
        "x_test = x_test.reshape(x_test.shape[0],x_test.shape[1], 1)"
      ],
      "metadata": {
        "id": "S4QeQRPEMUHg"
      },
      "execution_count": null,
      "outputs": []
    },
    {
      "cell_type": "code",
      "source": [
        "print(y_train.shape)\n",
        "print(y_val.shape)\n",
        "print(y_test.shape)"
      ],
      "metadata": {
        "colab": {
          "base_uri": "https://localhost:8080/"
        },
        "id": "huFOAk-exf7f",
        "outputId": "695d66a4-a1d5-4b54-bb0a-c81027f88a19"
      },
      "execution_count": null,
      "outputs": [
        {
          "output_type": "stream",
          "name": "stdout",
          "text": [
            "(499712, 3)\n",
            "(62464, 3)\n",
            "(62464, 3)\n"
          ]
        }
      ]
    },
    {
      "cell_type": "code",
      "source": [
        "batch_size = 256\n",
        "num_classes = 3\n",
        "epochs = 10\n",
        "input_shape=(x_train.shape[1], 1)"
      ],
      "metadata": {
        "id": "0nkS8QOEMYrF"
      },
      "execution_count": null,
      "outputs": []
    },
    {
      "cell_type": "code",
      "source": [
        "print(input_shape)"
      ],
      "metadata": {
        "colab": {
          "base_uri": "https://localhost:8080/"
        },
        "id": "h71haf5VxkJW",
        "outputId": "f6cbf07c-b5e7-4892-89d5-789c9fb072c4"
      },
      "execution_count": null,
      "outputs": [
        {
          "output_type": "stream",
          "name": "stdout",
          "text": [
            "(75, 1)\n"
          ]
        }
      ]
    },
    {
      "cell_type": "code",
      "source": [
        "class F1Score(tf.keras.metrics.Metric):\n",
        "    def __init__(self, name='f1_score', **kwargs):\n",
        "        super(F1Score, self).__init__(name=name, **kwargs)\n",
        "        self.precision = tf.keras.metrics.Precision()\n",
        "        self.recall = tf.keras.metrics.Recall()\n",
        "\n",
        "    def update_state(self, y_true, y_pred, sample_weight=None):\n",
        "        self.precision.update_state(y_true, y_pred, sample_weight=sample_weight)\n",
        "        self.recall.update_state(y_true, y_pred, sample_weight=sample_weight)\n",
        "\n",
        "    def result(self):\n",
        "        precision = self.precision.result()\n",
        "        recall = self.recall.result()\n",
        "        return 2 * ((precision * recall) / (precision + recall + tf.keras.backend.epsilon()))\n",
        "\n",
        "    def reset_states(self):\n",
        "        self.precision.reset_states()\n",
        "        self.recall.reset_states()"
      ],
      "metadata": {
        "id": "If20OeaTxnXh"
      },
      "execution_count": null,
      "outputs": []
    },
    {
      "cell_type": "markdown",
      "source": [
        "Model CNN"
      ],
      "metadata": {
        "id": "6b1FIk4Xgnv0"
      }
    },
    {
      "cell_type": "code",
      "source": [
        "from keras.layers import Convolution1D, ZeroPadding1D, MaxPooling1D, BatchNormalization, Activation, Dropout, Flatten, Dense,GRU,SpatialDropout1D,Bidirectional\n",
        "from keras.regularizers import l2"
      ],
      "metadata": {
        "id": "Qvr_GH61gmVs"
      },
      "execution_count": null,
      "outputs": []
    },
    {
      "cell_type": "code",
      "source": [
        "modelA = Sequential()\n",
        "\n",
        "intput_shape=(x_train.shape[1], 1)\n",
        "\n",
        "modelA.add(Conv1D(1024, kernel_size=9,padding = 'same',activation='relu', input_shape=input_shape))\n",
        "modelA.add(BatchNormalization())\n",
        "modelA.add(MaxPooling1D(pool_size=(2)))\n",
        "\n",
        "modelA.add(Conv1D(512,kernel_size=6,padding = 'same', activation='relu'))\n",
        "modelA.add(BatchNormalization())\n",
        "modelA.add(MaxPooling1D(pool_size=(2)))\n",
        "\n",
        "modelA.add(Conv1D(256,kernel_size=6,padding = 'same', activation='relu'))\n",
        "modelA.add(BatchNormalization())\n",
        "modelA.add(MaxPooling1D(pool_size=(2)))\n",
        "\n",
        "modelA.add(Conv1D(128,kernel_size=6,padding = 'same', activation='relu'))\n",
        "modelA.add(BatchNormalization())\n",
        "modelA.add(MaxPooling1D(pool_size=(2)))\n",
        "\n",
        "modelA.add(Flatten())\n",
        "\n",
        "modelA.add(Dense(1024, activation='relu'))\n",
        "modelA.add(Dropout(0.2))\n",
        "\n",
        "modelA.add(Dense(256, activation='relu'))\n",
        "modelA.add(Dropout(0.2))\n",
        "\n",
        "modelA.add(Dense(64, activation='relu'))\n",
        "modelA.add(Dropout(0.2))\n",
        "\n",
        "modelA.add(Dense(num_classesA, activation='softmax'))\n",
        "modelA.summary()"
      ],
      "metadata": {
        "id": "YcmwECiggmlg"
      },
      "execution_count": null,
      "outputs": []
    },
    {
      "cell_type": "markdown",
      "source": [
        "Model CNN+BiLSTM"
      ],
      "metadata": {
        "id": "U6UHvxpog0Iu"
      }
    },
    {
      "cell_type": "code",
      "source": [
        "model_HB = Sequential()\n",
        "\n",
        "intput_shape=(x_train.shape[1], 1)\n",
        "\n",
        "model_HB.add(Conv1D(1024, kernel_size=9,padding = 'same',activation='relu', input_shape=input_shape))\n",
        "model_HB.add(BatchNormalization())\n",
        "model_HB.add(MaxPooling1D(pool_size=(2)))\n",
        "\n",
        "model_HB.add(Conv1D(512,kernel_size=6,padding = 'same', activation='relu'))\n",
        "model_HB.add(BatchNormalization())\n",
        "model_HB.add(MaxPooling1D(pool_size=(2)))\n",
        "\n",
        "model_HB.add(Conv1D(256,kernel_size=6,padding = 'same', activation='relu'))\n",
        "model_HB.add(BatchNormalization())\n",
        "model_HB.add(MaxPooling1D(pool_size=(2)))\n",
        "\n",
        "model_HB.add(Conv1D(128,kernel_size=6,padding = 'same', activation='relu'))\n",
        "model_HB.add(BatchNormalization())\n",
        "model_HB.add(MaxPooling1D(pool_size=(2)))\n",
        "\n",
        "\n",
        "model_HB.add(LSTM(units=64,return_sequences=True))\n",
        "model_HB.add(SeqSelfAttention(attention_activation='tanh'))\n",
        "model_HB.add(Dropout(0.2))\n",
        "\n",
        "model_HB.add(LSTM(units=128,return_sequences=True))\n",
        "model_HB.add(SeqSelfAttention(attention_activation='tanh'))\n",
        "model_HB.add(Dropout(0.2))\n",
        "\n",
        "model_HB.add(LSTM(units=128,return_sequences=True))\n",
        "model_HB.add(SeqSelfAttention(attention_activation='tanh'))\n",
        "model_HB.add(Dropout(0.2))\n",
        "\n",
        "model_HB.add(LSTM(units=256,return_sequences=True))\n",
        "model_HB.add(SeqSelfAttention(attention_activation='tanh'))\n",
        "\n",
        "model_HB.add(Flatten())\n",
        "\n",
        "model_HB.add(Dense(1024, activation='relu'))\n",
        "model_HB.add(Dropout(0.2))\n",
        "\n",
        "model_HB.add(Dense(256, activation='relu'))\n",
        "model_HB.add(Dropout(0.2))\n",
        "\n",
        "model_HB.add(Dense(64, activation='relu'))\n",
        "model_HB.add(Dropout(0.2))\n",
        "\n",
        "model_HB.add(Dense(num_classes, activation='softmax'))\n",
        "\n",
        "model_HB.summary()"
      ],
      "metadata": {
        "colab": {
          "base_uri": "https://localhost:8080/"
        },
        "id": "WeTHKFH-xqMu",
        "outputId": "819a6d61-16a4-4209-a282-2573d959e693"
      },
      "execution_count": null,
      "outputs": [
        {
          "output_type": "stream",
          "name": "stdout",
          "text": [
            "Model: \"sequential_1\"\n",
            "_________________________________________________________________\n",
            " Layer (type)                Output Shape              Param #   \n",
            "=================================================================\n",
            " conv1d_4 (Conv1D)           (None, 75, 1024)          10240     \n",
            "                                                                 \n",
            " batch_normalization_4 (Bat  (None, 75, 1024)          4096      \n",
            " chNormalization)                                                \n",
            "                                                                 \n",
            " max_pooling1d_4 (MaxPoolin  (None, 37, 1024)          0         \n",
            " g1D)                                                            \n",
            "                                                                 \n",
            " conv1d_5 (Conv1D)           (None, 37, 512)           3146240   \n",
            "                                                                 \n",
            " batch_normalization_5 (Bat  (None, 37, 512)           2048      \n",
            " chNormalization)                                                \n",
            "                                                                 \n",
            " max_pooling1d_5 (MaxPoolin  (None, 18, 512)           0         \n",
            " g1D)                                                            \n",
            "                                                                 \n",
            " conv1d_6 (Conv1D)           (None, 18, 256)           786688    \n",
            "                                                                 \n",
            " batch_normalization_6 (Bat  (None, 18, 256)           1024      \n",
            " chNormalization)                                                \n",
            "                                                                 \n",
            " max_pooling1d_6 (MaxPoolin  (None, 9, 256)            0         \n",
            " g1D)                                                            \n",
            "                                                                 \n",
            " conv1d_7 (Conv1D)           (None, 9, 128)            196736    \n",
            "                                                                 \n",
            " batch_normalization_7 (Bat  (None, 9, 128)            512       \n",
            " chNormalization)                                                \n",
            "                                                                 \n",
            " max_pooling1d_7 (MaxPoolin  (None, 4, 128)            0         \n",
            " g1D)                                                            \n",
            "                                                                 \n",
            " lstm_4 (LSTM)               (None, 4, 64)             49408     \n",
            "                                                                 \n",
            " seq_self_attention_4 (SeqS  (None, 4, 64)             4161      \n",
            " elfAttention)                                                   \n",
            "                                                                 \n",
            " dropout_6 (Dropout)         (None, 4, 64)             0         \n",
            "                                                                 \n",
            " lstm_5 (LSTM)               (None, 4, 128)            98816     \n",
            "                                                                 \n",
            " seq_self_attention_5 (SeqS  (None, 4, 128)            8257      \n",
            " elfAttention)                                                   \n",
            "                                                                 \n",
            " dropout_7 (Dropout)         (None, 4, 128)            0         \n",
            "                                                                 \n",
            " lstm_6 (LSTM)               (None, 4, 128)            131584    \n",
            "                                                                 \n",
            " seq_self_attention_6 (SeqS  (None, 4, 128)            8257      \n",
            " elfAttention)                                                   \n",
            "                                                                 \n",
            " dropout_8 (Dropout)         (None, 4, 128)            0         \n",
            "                                                                 \n",
            " lstm_7 (LSTM)               (None, 4, 256)            394240    \n",
            "                                                                 \n",
            " seq_self_attention_7 (SeqS  (None, 4, 256)            16449     \n",
            " elfAttention)                                                   \n",
            "                                                                 \n",
            " flatten_1 (Flatten)         (None, 1024)              0         \n",
            "                                                                 \n",
            " dense_4 (Dense)             (None, 1024)              1049600   \n",
            "                                                                 \n",
            " dropout_9 (Dropout)         (None, 1024)              0         \n",
            "                                                                 \n",
            " dense_5 (Dense)             (None, 256)               262400    \n",
            "                                                                 \n",
            " dropout_10 (Dropout)        (None, 256)               0         \n",
            "                                                                 \n",
            " dense_6 (Dense)             (None, 64)                16448     \n",
            "                                                                 \n",
            " dropout_11 (Dropout)        (None, 64)                0         \n",
            "                                                                 \n",
            " dense_7 (Dense)             (None, 3)                 195       \n",
            "                                                                 \n",
            "=================================================================\n",
            "Total params: 6187399 (23.60 MB)\n",
            "Trainable params: 6183559 (23.59 MB)\n",
            "Non-trainable params: 3840 (15.00 KB)\n",
            "_________________________________________________________________\n"
          ]
        }
      ]
    },
    {
      "cell_type": "code",
      "source": [
        "model_HB.compile(\n",
        "    loss=keras.losses.categorical_crossentropy,\n",
        "    optimizer='adam',\n",
        "    metrics=['accuracy', Precision(), F1Score()]\n",
        ")"
      ],
      "metadata": {
        "id": "glB37pifxs1Y"
      },
      "execution_count": null,
      "outputs": []
    },
    {
      "cell_type": "code",
      "source": [
        "model_name = \"FHybrid_model\"\n",
        "directory_path = \"/content/drive/MyDrive/Thesis\"\n",
        "weights_filename = \"weights-improvement_\" + model_name + \".hdf5\"\n",
        "os.makedirs(directory_path, exist_ok=True)\n",
        "\n",
        "# Complete file path for the model weights\n",
        "filepath_CLB = os.path.join(directory_path, weights_filename)\n",
        "print(\"Model weights will be saved to:\", filepath_CLB)\n",
        "\n",
        "checkpoint = ModelCheckpoint(filepath_CLB, monitor='val_accuracy', verbose=1, save_best_only=True, mode='max')\n",
        "\n",
        "es = EarlyStopping(monitor='val_accuracy', mode='max', verbose=1, patience=15)\n",
        "\n",
        "reduce_lr = ReduceLROnPlateau(monitor='val_accuracy', mode='max', factor=0.2, patience=2, min_lr=0.001, verbose=1)\n",
        "\n",
        "# Combine all callbacks in a list\n",
        "callbacks_list = [es, checkpoint, reduce_lr]"
      ],
      "metadata": {
        "id": "ZGJw62mFxwam",
        "colab": {
          "base_uri": "https://localhost:8080/"
        },
        "outputId": "7c059e3a-aba9-4fd9-fd8a-0ddc089a18b9"
      },
      "execution_count": null,
      "outputs": [
        {
          "output_type": "stream",
          "name": "stdout",
          "text": [
            "Model weights will be saved to: /content/drive/MyDrive/Thesis/weights-improvement_FHybrid_model.hdf5\n"
          ]
        }
      ]
    },
    {
      "cell_type": "code",
      "source": [
        "FHybridmodel = model_HB.fit(x_train, y_train,\n",
        "          batch_size=batch_size,\n",
        "          epochs=epochs,\n",
        "          verbose=1,\n",
        "          validation_data=(x_val, y_val),\n",
        "          callbacks= callbacks_list)"
      ],
      "metadata": {
        "id": "s947cW8Cxz8w",
        "colab": {
          "base_uri": "https://localhost:8080/"
        },
        "outputId": "d16e8c20-9bd2-4e93-bdd6-38743518eca7"
      },
      "execution_count": null,
      "outputs": [
        {
          "output_type": "stream",
          "name": "stdout",
          "text": [
            "Epoch 1/10\n",
            "1952/1952 [==============================] - ETA: 0s - loss: 0.8341 - accuracy: 0.5910 - precision_2: 0.6684 - f1_score: 0.5306\n",
            "Epoch 1: val_accuracy improved from -inf to 0.64021, saving model to /content/drive/MyDrive/Thesis/weights-improvement_FHybrid_model.hdf5\n",
            "1952/1952 [==============================] - 212s 96ms/step - loss: 0.8341 - accuracy: 0.5910 - precision_2: 0.6684 - f1_score: 0.5306 - val_loss: 0.7555 - val_accuracy: 0.6402 - val_precision_2: 0.7079 - val_f1_score: 0.6033 - lr: 0.0010\n",
            "Epoch 2/10\n",
            "1952/1952 [==============================] - ETA: 0s - loss: 0.6830 - accuracy: 0.6827 - precision_2: 0.7425 - f1_score: 0.6597\n",
            "Epoch 2: val_accuracy improved from 0.64021 to 0.71646, saving model to /content/drive/MyDrive/Thesis/weights-improvement_FHybrid_model.hdf5\n",
            "1952/1952 [==============================] - 181s 93ms/step - loss: 0.6830 - accuracy: 0.6827 - precision_2: 0.7425 - f1_score: 0.6597 - val_loss: 0.6173 - val_accuracy: 0.7165 - val_precision_2: 0.7767 - val_f1_score: 0.6963 - lr: 0.0010\n",
            "Epoch 3/10\n",
            "1952/1952 [==============================] - ETA: 0s - loss: 0.5669 - accuracy: 0.7445 - precision_2: 0.7938 - f1_score: 0.7336\n",
            "Epoch 3: val_accuracy improved from 0.71646 to 0.76343, saving model to /content/drive/MyDrive/Thesis/weights-improvement_FHybrid_model.hdf5\n",
            "1952/1952 [==============================] - 176s 90ms/step - loss: 0.5669 - accuracy: 0.7445 - precision_2: 0.7938 - f1_score: 0.7336 - val_loss: 0.5296 - val_accuracy: 0.7634 - val_precision_2: 0.8031 - val_f1_score: 0.7572 - lr: 0.0010\n",
            "Epoch 4/10\n",
            "1952/1952 [==============================] - ETA: 0s - loss: 0.4782 - accuracy: 0.7899 - precision_2: 0.8291 - f1_score: 0.7849\n",
            "Epoch 4: val_accuracy improved from 0.76343 to 0.79372, saving model to /content/drive/MyDrive/Thesis/weights-improvement_FHybrid_model.hdf5\n",
            "1952/1952 [==============================] - 181s 92ms/step - loss: 0.4782 - accuracy: 0.7899 - precision_2: 0.8291 - f1_score: 0.7849 - val_loss: 0.4743 - val_accuracy: 0.7937 - val_precision_2: 0.8280 - val_f1_score: 0.7892 - lr: 0.0010\n",
            "Epoch 5/10\n",
            "1952/1952 [==============================] - ETA: 0s - loss: 0.4097 - accuracy: 0.8250 - precision_2: 0.8545 - f1_score: 0.8222\n",
            "Epoch 5: val_accuracy improved from 0.79372 to 0.81701, saving model to /content/drive/MyDrive/Thesis/weights-improvement_FHybrid_model.hdf5\n",
            "1952/1952 [==============================] - 177s 91ms/step - loss: 0.4097 - accuracy: 0.8250 - precision_2: 0.8545 - f1_score: 0.8222 - val_loss: 0.4301 - val_accuracy: 0.8170 - val_precision_2: 0.8456 - val_f1_score: 0.8145 - lr: 0.0010\n",
            "Epoch 6/10\n",
            "1952/1952 [==============================] - ETA: 0s - loss: 0.3584 - accuracy: 0.8497 - precision_2: 0.8750 - f1_score: 0.8483\n",
            "Epoch 6: val_accuracy improved from 0.81701 to 0.83397, saving model to /content/drive/MyDrive/Thesis/weights-improvement_FHybrid_model.hdf5\n",
            "1952/1952 [==============================] - 176s 90ms/step - loss: 0.3584 - accuracy: 0.8497 - precision_2: 0.8750 - f1_score: 0.8483 - val_loss: 0.4026 - val_accuracy: 0.8340 - val_precision_2: 0.8547 - val_f1_score: 0.8334 - lr: 0.0010\n",
            "Epoch 7/10\n",
            "1952/1952 [==============================] - ETA: 0s - loss: 0.3171 - accuracy: 0.8686 - precision_2: 0.8897 - f1_score: 0.8680\n",
            "Epoch 7: val_accuracy improved from 0.83397 to 0.84810, saving model to /content/drive/MyDrive/Thesis/weights-improvement_FHybrid_model.hdf5\n",
            "1952/1952 [==============================] - 181s 93ms/step - loss: 0.3171 - accuracy: 0.8686 - precision_2: 0.8897 - f1_score: 0.8680 - val_loss: 0.3767 - val_accuracy: 0.8481 - val_precision_2: 0.8662 - val_f1_score: 0.8478 - lr: 0.0010\n",
            "Epoch 8/10\n",
            "1952/1952 [==============================] - ETA: 0s - loss: 0.2856 - accuracy: 0.8833 - precision_2: 0.9009 - f1_score: 0.8833\n",
            "Epoch 8: val_accuracy improved from 0.84810 to 0.85777, saving model to /content/drive/MyDrive/Thesis/weights-improvement_FHybrid_model.hdf5\n",
            "1952/1952 [==============================] - 176s 90ms/step - loss: 0.2856 - accuracy: 0.8833 - precision_2: 0.9009 - f1_score: 0.8833 - val_loss: 0.3564 - val_accuracy: 0.8578 - val_precision_2: 0.8769 - val_f1_score: 0.8577 - lr: 0.0010\n",
            "Epoch 9/10\n",
            "1952/1952 [==============================] - ETA: 0s - loss: 0.2584 - accuracy: 0.8956 - precision_2: 0.9110 - f1_score: 0.8952\n",
            "Epoch 9: val_accuracy improved from 0.85777 to 0.86632, saving model to /content/drive/MyDrive/Thesis/weights-improvement_FHybrid_model.hdf5\n",
            "1952/1952 [==============================] - 176s 90ms/step - loss: 0.2584 - accuracy: 0.8956 - precision_2: 0.9110 - f1_score: 0.8952 - val_loss: 0.3489 - val_accuracy: 0.8663 - val_precision_2: 0.8797 - val_f1_score: 0.8664 - lr: 0.0010\n",
            "Epoch 10/10\n",
            "1952/1952 [==============================] - ETA: 0s - loss: 0.2365 - accuracy: 0.9052 - precision_2: 0.9184 - f1_score: 0.9051\n",
            "Epoch 10: val_accuracy improved from 0.86632 to 0.86749, saving model to /content/drive/MyDrive/Thesis/weights-improvement_FHybrid_model.hdf5\n",
            "1952/1952 [==============================] - 176s 90ms/step - loss: 0.2365 - accuracy: 0.9052 - precision_2: 0.9184 - f1_score: 0.9051 - val_loss: 0.3500 - val_accuracy: 0.8675 - val_precision_2: 0.8809 - val_f1_score: 0.8674 - lr: 0.0010\n"
          ]
        }
      ]
    },
    {
      "cell_type": "code",
      "source": [
        "score_Hybrid = model_HB.evaluate(x_test, y_test, verbose=1)\n",
        "print('Test loss:', score_Hybrid[0])\n",
        "print('Test accuracy:', score_Hybrid[1])\n",
        "print('Test precision:', score_Hybrid[2])\n",
        "print('Test f1_score:', score_Hybrid[3])"
      ],
      "metadata": {
        "colab": {
          "base_uri": "https://localhost:8080/"
        },
        "id": "fEE8RSlx2yyI",
        "outputId": "16c4fcf0-a6b1-43ce-fa93-13805621471a"
      },
      "execution_count": null,
      "outputs": [
        {
          "output_type": "stream",
          "name": "stdout",
          "text": [
            "1952/1952 [==============================] - 18s 8ms/step - loss: 0.3525 - accuracy: 0.8665 - precision_2: 0.8806 - f1_score: 0.8667\n",
            "Test loss: 0.3525018095970154\n",
            "Test accuracy: 0.8665151000022888\n",
            "Test precision: 0.8805696368217468\n",
            "Test f1_score: 0.8667159080505371\n"
          ]
        }
      ]
    },
    {
      "cell_type": "code",
      "source": [
        "# Plot training & validation accuracy values\n",
        "plt.plot(FHybridmodel.history['accuracy'])\n",
        "plt.plot(FHybridmodel.history['val_accuracy'])\n",
        "plt.title('Model accuracy')\n",
        "plt.ylabel('Accuracy')\n",
        "plt.xlabel('Epoch')\n",
        "plt.legend(['Train', 'Test'], loc='upper left')\n",
        "plt.show()\n",
        "\n",
        "# Plot training & validation loss values\n",
        "plt.plot(FHybridmodel.history['loss'])\n",
        "plt.plot(FHybridmodel.history['val_loss'])\n",
        "plt.title('Model loss')\n",
        "plt.ylabel('Loss')\n",
        "plt.xlabel('Epoch')\n",
        "plt.legend(['Train', 'Test'], loc='upper left')\n",
        "plt.show()"
      ],
      "metadata": {
        "colab": {
          "base_uri": "https://localhost:8080/",
          "height": 927
        },
        "id": "VA_3rvJa22qz",
        "outputId": "f9f50042-8c33-4ed3-813c-6d67fbd2c4dc"
      },
      "execution_count": null,
      "outputs": [
        {
          "output_type": "display_data",
          "data": {
            "text/plain": [
              "<Figure size 640x480 with 1 Axes>"
            ],
            "image/png": "[encoded data removed]"
          },
          "metadata": {}
        },
        {
          "output_type": "display_data",
          "data": {
            "text/plain": [
              "<Figure size 640x480 with 1 Axes>"
            ],
            "image/png": "[encoded data removed]"
          },
          "metadata": {}
        }
      ]
    },
    {
      "cell_type": "code",
      "source": [
        "from sklearn.metrics import confusion_matrix\n",
        "import seaborn as sns\n",
        "\n",
        "# Convert one-hot encoded predictions and labels to class indices\n",
        "y_pred_classes = np.argmax(model_HB.predict(x_val), axis=1)\n",
        "y_true_classes = np.argmax(y_val, axis=1)\n",
        "\n",
        "# Compute confusion matrix\n",
        "cm = confusion_matrix(y_true_classes, y_pred_classes)\n",
        "\n",
        "# Plot confusion matrix\n",
        "plt.figure(figsize=(10, 7))\n",
        "sns.heatmap(cm, annot=True, fmt=\"d\", cmap=\"Blues\")\n",
        "plt.title('Confusion Matrix')\n",
        "plt.ylabel('True label')\n",
        "plt.xlabel('Predicted label')\n",
        "plt.show()"
      ],
      "metadata": {
        "id": "1DMCuK_-x_g7",
        "colab": {
          "base_uri": "https://localhost:8080/",
          "height": 658
        },
        "outputId": "40825966-97a2-449f-96b7-23cd82de4b8e"
      },
      "execution_count": null,
      "outputs": [
        {
          "output_type": "stream",
          "name": "stdout",
          "text": [
            "1952/1952 [==============================] - 14s 6ms/step\n"
          ]
        },
        {
          "output_type": "display_data",
          "data": {
            "text/plain": [
              "<Figure size 1000x700 with 2 Axes>"
            ],
            "image/png": "[encoded data removed]"
          },
          "metadata": {}
        }
      ]
    },
    {
      "cell_type": "code",
      "source": [
        "import numpy as np\n",
        "import matplotlib.pyplot as plt\n",
        "from sklearn.metrics import roc_curve, auc\n",
        "from sklearn.preprocessing import label_binarize\n",
        "from itertools import cycle\n",
        "from scipy import interp\n",
        "\n",
        "# Assuming `model` is your trained CNN model\n",
        "# `X_test` is your test data, `y_test` are your true labels (as integers 0, 1, 2 for negative, neutral, positive)\n",
        "\n",
        "# Binarize the labels for ROC calculation\n",
        "y_test_binarized = label_binarize(y_test, classes=[negative, neutral, positive])\n",
        "n_classes = y_test_binarized.shape[1]\n",
        "\n",
        "# Predict probabilities for each class\n",
        "y_score = model_HB.predict(x_test)  # Ensure this gives you the probability for each class\n",
        "\n",
        "# Compute ROC curve and ROC area for each class\n",
        "fpr = dict()\n",
        "tpr = dict()\n",
        "roc_auc = dict()\n",
        "for i in range(n_classes):\n",
        "    fpr[i], tpr[i], _ = roc_curve(y_test_binarized[:, i], y_score[:, i])\n",
        "    roc_auc[i] = auc(fpr[i], tpr[i])\n",
        "\n",
        "# Compute micro-average ROC curve and ROC area\n",
        "fpr[\"micro\"], tpr[\"micro\"], _ = roc_curve(y_test_binarized.ravel(), y_score.ravel())\n",
        "roc_auc[\"micro\"] = auc(fpr[\"micro\"], tpr[\"micro\"])\n",
        "\n",
        "# Plot ROC curves\n",
        "plt.figure(figsize=(10, 8))\n",
        "lw = 2\n",
        "colors = cycle(['aqua', 'darkorange', 'cornflowerblue'])\n",
        "for i, color in zip(range(n_classes), colors):\n",
        "    plt.plot(fpr[i], tpr[i], color=color, lw=lw,\n",
        "             label='ROC curve of class {0} (area = {1:0.2f})'\n",
        "             ''.format(i, roc_auc[i]))\n",
        "\n",
        "plt.plot([0, 1], [0, 1], 'k--', lw=lw)\n",
        "plt.xlim([0.0, 1.0])\n",
        "plt.ylim([0.0, 1.05])\n",
        "plt.xlabel('False Positive Rate')\n",
        "plt.ylabel('True Positive Rate')\n",
        "plt.title('Multi-class ROC')\n",
        "plt.legend(loc=\"lower right\")\n",
        "plt.show()\n"
      ],
      "metadata": {
        "colab": {
          "base_uri": "https://localhost:8080/",
          "height": 735
        },
        "id": "eg5_bwPVfM79",
        "outputId": "3b59182d-c191-40c1-8e83-9bdba207d5ec"
      },
      "execution_count": null,
      "outputs": [
        {
          "output_type": "stream",
          "name": "stdout",
          "text": [
            "1952/1952 [==============================] - 12s 6ms/step\n"
          ]
        },
        {
          "output_type": "display_data",
          "data": {
            "text/plain": [
              "<Figure size 1000x800 with 1 Axes>"
            ],
            "image/png": "[encoded data removed]"
          },
          "metadata": {}
        }
      ]
    },
    {
      "cell_type": "code",
      "source": [
        "base_path_model = \"/content/drive/MyDrive/Thesis/\"\n",
        "accuracy = \"_86\"\n",
        "\n",
        "path_model_HB = base_path_model + model_name + accuracy + \".h5\"\n",
        "model_HB.save(path_model_HB)\n",
        "print(path_model_HB)"
      ],
      "metadata": {
        "id": "_ZwS4f_TyERu",
        "colab": {
          "base_uri": "https://localhost:8080/"
        },
        "outputId": "f875c63c-002d-4c9a-e1e7-c49805335d96"
      },
      "execution_count": null,
      "outputs": [
        {
          "output_type": "stream",
          "name": "stdout",
          "text": [
            "/content/drive/MyDrive/Thesis/FHybrid_model_86.h5\n"
          ]
        }
      ]
    }
  ]
}